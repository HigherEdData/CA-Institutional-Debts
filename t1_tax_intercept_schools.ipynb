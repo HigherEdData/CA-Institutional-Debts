{
 "cells": [
  {
   "cell_type": "code",
   "execution_count": 1,
   "id": "815a8162-495d-4d85-b881-fe4b2b2bbd80",
   "metadata": {},
   "outputs": [
    {
     "data": {
      "text/html": [
       "<style>div.jp-Notebook .datagrid-container {min-height: 448px; }</style>"
      ],
      "text/plain": [
       "<IPython.core.display.HTML object>"
      ]
     },
     "metadata": {},
     "output_type": "display_data"
    }
   ],
   "source": [
    "use data/d_ftb_hd_efa_sfa_ipeds, clear\n",
    "sort instnm"
   ]
  },
  {
   "cell_type": "code",
   "execution_count": 2,
   "id": "7c190e2a-3f64-4bb8-8190-067c0adbed9a",
   "metadata": {},
   "outputs": [
    {
     "name": "stdout",
     "output_type": "stream",
     "text": [
      "(1 real change made)\n"
     ]
    }
   ],
   "source": [
    "replace control=2 if unitid==262086"
   ]
  },
  {
   "cell_type": "code",
   "execution_count": 3,
   "id": "8ec67831-5160-452d-a28b-ac95232aed8e",
   "metadata": {},
   "outputs": [
    {
     "name": "stdout",
     "output_type": "stream",
     "text": [
      "Private & Out of State Colleges that Used FTB Tax Intercept in 2019\n",
      "\n",
      "                                instnm   fgrnt_p  \n",
      "                      Biola University        25  \n",
      "        California College of the Arts        27  \n",
      "                    Chapman University        21  \n",
      "                  La Sierra University        51  \n",
      "                 Loma Linda University         .  \n",
      "           Loyola Marymount University        31  \n",
      "        Notre Dame de Namur University         .  \n",
      "                 Pepperdine University        19  \n",
      "    Saint Mary's College of California        24  \n",
      "                Santa Clara University        10  \n",
      "                   Stanford University        19  \n",
      "                University of La Verne        54  \n",
      "    University of Massachusetts Global        33  \n",
      "                University of Redlands        32  \n",
      "     University of Southern California        37  \n",
      "                      Whittier College        28  \n"
     ]
    }
   ],
   "source": [
    "display \"Private & Out of State Colleges that Used FTB Tax Intercept in 2019\"\n",
    "list instnm fgrnt_p if control==2 & all_amount!=., noobs clean"
   ]
  },
  {
   "cell_type": "code",
   "execution_count": 4,
   "id": "f0192ac7-d558-4221-b740-56005c68d256",
   "metadata": {},
   "outputs": [
    {
     "name": "stdout",
     "output_type": "stream",
     "text": [
      "Private Colleges that Used FTB Tax Intercept in 2019\n",
      "\n",
      "  +----------------------------------------------+\n",
      "  |                             instnm   fgrnt_p |\n",
      "  |----------------------------------------------|\n",
      "  |                   Biola University        25 |\n",
      "  |     California College of the Arts        27 |\n",
      "  |                 Chapman University        21 |\n",
      "  |               La Sierra University        51 |\n",
      "  |              Loma Linda University         . |\n",
      "  |----------------------------------------------|\n",
      "  |        Loyola Marymount University        31 |\n",
      "  |     Notre Dame de Namur University         . |\n",
      "  |              Pepperdine University        19 |\n",
      "  | Saint Mary's College of California        24 |\n",
      "  |             Santa Clara University        10 |\n",
      "  |----------------------------------------------|\n",
      "  |                Stanford University        19 |\n",
      "  |             University of La Verne        54 |\n",
      "  | University of Massachusetts Global        33 |\n",
      "  |             University of Redlands        32 |\n",
      "  |  University of Southern California        37 |\n",
      "  |----------------------------------------------|\n",
      "  |                   Whittier College        28 |\n",
      "  +----------------------------------------------+\n"
     ]
    }
   ],
   "source": [
    "display \"Private Colleges that Used FTB Tax Intercept in 2019\"\n",
    "list instnm fgrnt_p if control==2 & all_amount!=., noobs"
   ]
  },
  {
   "cell_type": "code",
   "execution_count": 5,
   "id": "89cc7e8f-9700-4ffa-9c12-9f27934b6b51",
   "metadata": {},
   "outputs": [
    {
     "name": "stdout",
     "output_type": "stream",
     "text": [
      "UC Campuses that Used FTB Tax Intercept in 2019\n",
      "\n",
      "  +-------------------------------------------------------------------------+\n",
      "  |                                                        instnm   fgrnt_p |\n",
      "  |-------------------------------------------------------------------------|\n",
      "  |                             University of California-Berkeley        44 |\n",
      "  |                                University of California-Davis        49 |\n",
      "  |                          University of California-Los Angeles        30 |\n",
      "  |                            University of California-Riverside        64 |\n",
      "  |                        University of California-Santa Barbara        48 |\n",
      "  |-------------------------------------------------------------------------|\n",
      "  |                           University of California-Santa Cruz        60 |\n",
      "  | University of California-System Administration Central Office         . |\n",
      "  +-------------------------------------------------------------------------+\n"
     ]
    }
   ],
   "source": [
    "display \"UC Campuses that Used FTB Tax Intercept in 2019\"\n",
    "list instnm fgrnt_p if ucall==1 & all_amount!=., noobs"
   ]
  },
  {
   "cell_type": "code",
   "execution_count": 6,
   "id": "7ef33bb7-0120-4c1e-8a8e-934890050a19",
   "metadata": {},
   "outputs": [
    {
     "name": "stdout",
     "output_type": "stream",
     "text": [
      "UC Campuses that Did not Use FTB Tax Intercept in 2019\n",
      "\n",
      "  +------------------------------------------------------------+\n",
      "  |                                           instnm   fgrnt_p |\n",
      "  |------------------------------------------------------------|\n",
      "  | University of California-Hastings College of Law         . |\n",
      "  |                  University of California-Irvine        78 |\n",
      "  |                  University of California-Merced        64 |\n",
      "  |               University of California-San Diego        44 |\n",
      "  |           University of California-San Francisco         . |\n",
      "  +------------------------------------------------------------+\n"
     ]
    }
   ],
   "source": [
    "display \"UC Campuses that Did not Use FTB Tax Intercept in 2019\"\n",
    "list instnm fgrnt_p if ucall==1 & all_amount==., noobs"
   ]
  },
  {
   "cell_type": "code",
   "execution_count": 7,
   "id": "bc42dc7d-e2e9-429d-9e10-b439ead99b43",
   "metadata": {},
   "outputs": [
    {
     "name": "stdout",
     "output_type": "stream",
     "text": [
      "CSU Campuses that Used FTB Tax Intercept in 2019\n",
      "\n",
      "  +-------------------------------------------------------------------+\n",
      "  |                                                  instnm   fgrnt_p |\n",
      "  |-------------------------------------------------------------------|\n",
      "  | California Polytechnic State University-San Luis Obispo        17 |\n",
      "  |        California State Polytechnic University-Humboldt        38 |\n",
      "  |          California State Polytechnic University-Pomona        44 |\n",
      "  |            California State University Maritime Academy        21 |\n",
      "  |                 California State University-Bakersfield        67 |\n",
      "  |-------------------------------------------------------------------|\n",
      "  |          California State University-Chancellors Office         . |\n",
      "  |             California State University-Channel Islands        47 |\n",
      "  |                       California State University-Chico        39 |\n",
      "  |             California State University-Dominguez Hills        74 |\n",
      "  |                    California State University-East Bay        51 |\n",
      "  |-------------------------------------------------------------------|\n",
      "  |                      California State University-Fresno        64 |\n",
      "  |                  California State University-Long Beach        50 |\n",
      "  |                 California State University-Los Angeles        73 |\n",
      "  |                California State University-Monterey Bay        39 |\n",
      "  |                  California State University-Northridge        62 |\n",
      "  |-------------------------------------------------------------------|\n",
      "  |                  California State University-Sacramento        54 |\n",
      "  |              California State University-San Bernardino        63 |\n",
      "  |                  California State University-San Marcos        45 |\n",
      "  |                  California State University-Stanislaus        62 |\n",
      "  |                              San Diego State University        24 |\n",
      "  |-------------------------------------------------------------------|\n",
      "  |                          San Francisco State University        49 |\n",
      "  |                               San Jose State University        35 |\n",
      "  |                                 Sonoma State University        34 |\n",
      "  +-------------------------------------------------------------------+\n"
     ]
    }
   ],
   "source": [
    "display \"CSU Campuses that Used FTB Tax Intercept in 2019\"\n",
    "list instnm fgrnt_p if csuall==1 & all_amount!=., noobs"
   ]
  },
  {
   "cell_type": "code",
   "execution_count": 8,
   "id": "aa0984e8-5bc2-436a-a9f5-67c053992132",
   "metadata": {},
   "outputs": [
    {
     "name": "stdout",
     "output_type": "stream",
     "text": [
      "CSU Campuses that Did Not use FTB Tax Intercept in 2019\n",
      "\n",
      "    unitid                                  instnm  \n",
      "    110565   California State University-Fullerton  \n"
     ]
    }
   ],
   "source": [
    "display \"CSU Campuses that Did Not use FTB Tax Intercept in 2019\"\n",
    "list unitid instnm if csuall==1 & all_amount==., noobs clean"
   ]
  },
  {
   "cell_type": "code",
   "execution_count": null,
   "id": "7311e7e7-e535-4dcc-9f7a-cc1ec2f97b40",
   "metadata": {},
   "outputs": [],
   "source": []
  }
 ],
 "metadata": {
  "kernelspec": {
   "display_name": "Stata (nbstata)",
   "language": "stata",
   "name": "nbstata"
  },
  "language_info": {
   "file_extension": ".do",
   "mimetype": "text/x-stata",
   "name": "stata",
   "version": "17"
  }
 },
 "nbformat": 4,
 "nbformat_minor": 5
}
