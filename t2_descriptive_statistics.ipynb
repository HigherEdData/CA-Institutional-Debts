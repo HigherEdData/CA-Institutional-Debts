{
 "cells": [
  {
   "cell_type": "markdown",
   "id": "90d755d9-acd8-4c69-abd1-994c92f1e787",
   "metadata": {},
   "source": [
    "# Table 2 - Descriptive Statistics"
   ]
  },
  {
   "cell_type": "markdown",
   "id": "476694fd-2512-4049-a77b-af00798a3ab3",
   "metadata": {},
   "source": [
    "## IPEDS Fall 2022 Enrollment for Colleges and Universities"
   ]
  },
  {
   "cell_type": "code",
   "execution_count": 117,
   "id": "3eaa8020-f0b6-4e4a-a44f-2f74980deb9e",
   "metadata": {
    "tags": []
   },
   "outputs": [],
   "source": [
    "use data/hd_efa_2022, clear"
   ]
  },
  {
   "cell_type": "code",
   "execution_count": 118,
   "id": "227e4316-2c4a-4929-b51f-068fee4ae22e",
   "metadata": {
    "tags": []
   },
   "outputs": [
    {
     "data": {
      "text/html": [
       "<div>\n",
       "<style scoped>\n",
       "    .dataframe tbody tr th:only-of-type {\n",
       "        vertical-align: middle;\n",
       "    }\n",
       "\n",
       "    .dataframe tbody tr th {\n",
       "        vertical-align: top;\n",
       "    }\n",
       "\n",
       "    .dataframe thead th {\n",
       "        text-align: right;\n",
       "    }\n",
       "</style>\n",
       "<table border=\"1\" class=\"dataframe\">\n",
       "  <thead>\n",
       "    <tr style=\"text-align: right;\">\n",
       "      <th></th>\n",
       "      <th>unitid</th>\n",
       "      <th>iclevel</th>\n",
       "      <th>ccbasic</th>\n",
       "      <th>fips</th>\n",
       "      <th>control</th>\n",
       "      <th>eftotlt</th>\n",
       "      <th>efbkaat</th>\n",
       "      <th>efwhitt</th>\n",
       "      <th>pcteftotlt</th>\n",
       "      <th>pctefbkaat</th>\n",
       "      <th>pctefwhitt</th>\n",
       "    </tr>\n",
       "  </thead>\n",
       "  <tbody>\n",
       "    <tr>\n",
       "      <th>1</th>\n",
       "      <td>100654</td>\n",
       "      <td>1</td>\n",
       "      <td>18</td>\n",
       "      <td>1</td>\n",
       "      <td>1</td>\n",
       "      <td>5206</td>\n",
       "      <td>4658</td>\n",
       "      <td>103</td>\n",
       "      <td>5206</td>\n",
       "      <td>4658</td>\n",
       "      <td>103</td>\n",
       "    </tr>\n",
       "    <tr>\n",
       "      <th>2</th>\n",
       "      <td>100663</td>\n",
       "      <td>1</td>\n",
       "      <td>15</td>\n",
       "      <td>1</td>\n",
       "      <td>1</td>\n",
       "      <td>13032</td>\n",
       "      <td>3309</td>\n",
       "      <td>6661</td>\n",
       "      <td>13032</td>\n",
       "      <td>3309</td>\n",
       "      <td>6661</td>\n",
       "    </tr>\n",
       "    <tr>\n",
       "      <th>3</th>\n",
       "      <td>100690</td>\n",
       "      <td>1</td>\n",
       "      <td>21</td>\n",
       "      <td>1</td>\n",
       "      <td>2</td>\n",
       "      <td>228</td>\n",
       "      <td>151</td>\n",
       "      <td>65</td>\n",
       "      <td>228</td>\n",
       "      <td>151</td>\n",
       "      <td>65</td>\n",
       "    </tr>\n",
       "    <tr>\n",
       "      <th>4</th>\n",
       "      <td>100706</td>\n",
       "      <td>1</td>\n",
       "      <td>15</td>\n",
       "      <td>1</td>\n",
       "      <td>1</td>\n",
       "      <td>7169</td>\n",
       "      <td>640</td>\n",
       "      <td>5036</td>\n",
       "      <td>7169</td>\n",
       "      <td>640</td>\n",
       "      <td>5036</td>\n",
       "    </tr>\n",
       "    <tr>\n",
       "      <th>5</th>\n",
       "      <td>100724</td>\n",
       "      <td>1</td>\n",
       "      <td>18</td>\n",
       "      <td>1</td>\n",
       "      <td>1</td>\n",
       "      <td>3296</td>\n",
       "      <td>3049</td>\n",
       "      <td>51</td>\n",
       "      <td>3296</td>\n",
       "      <td>3049</td>\n",
       "      <td>51</td>\n",
       "    </tr>\n",
       "  </tbody>\n",
       "</table>\n",
       "</div>"
      ]
     },
     "metadata": {},
     "output_type": "display_data"
    }
   ],
   "source": [
    "%head"
   ]
  },
  {
   "cell_type": "code",
   "execution_count": 119,
   "id": "bdb3d97f-eeef-479e-b11b-7d22c536ea68",
   "metadata": {
    "tags": []
   },
   "outputs": [],
   "source": [
    "* Only required if there is no tables folder\n",
    "* mkdir tables"
   ]
  },
  {
   "cell_type": "code",
   "execution_count": 120,
   "id": "30269a03-d19c-4038-91f2-9d3f75e556d8",
   "metadata": {
    "tags": []
   },
   "outputs": [],
   "source": [
    "/* label variable unitid \"Institutional Number\"\n",
    "label variable control \"Classification of Institutional Operation\"\n",
    "label variable iclevel \"Institutions Program Time-Lines\"\n",
    "label variable fips \"FIPS State Code\"\n",
    "label variable ccbasic \"Carnegie Classification of Institution\"\n",
    "label variable instnm \"Institutions Name\"\n",
    "label variable hloffer \"Highest Level of Offering\"\n",
    "label variable hdegofr1 \"Highest Degree Offered\"\n",
    "label variable eftotlt \"Total Number of Students Enrolled for Fall\"\n",
    "label variable eftotlm \"Total Number of Men\"\n",
    "label variable eftotlw \"Total Number of Women\"\n",
    "label variable efasiaw \"Total Number of Asian Women\"\n",
    "label variable efbkaaw \"Total Number of Black Women\"\n",
    "label variable efhispw \"Total Number of Hispanic Women\"\n",
    "label variable efnhpiw \"Total Number of Native Hawaiian or Other Pacific Islander Women\"\n",
    "label variable efwhitw \"Total Number of White Women\"\n",
    "label variable ef2morw \"Total Number of Women of Two or More Races\"\n",
    "label variable efasiam \"Total Number of Asian Men\"\n",
    "label variable efbkaam \"Total Number of Black Men\"\n",
    "label variable efhispm \"Total Number of Histpanic Men\"\n",
    "label variable efnhpim \"Total Number of Native Hawaiian or Other Pacific Islander Men\"\n",
    "label variable efwhitm \"Total Number of White Men\"\n",
    "label variable ef2morm \"Total Number of Men of Two or More Races\"\n",
    "label variable efbkaat \"Total Number of Black Students\"\n",
    "label variable efwhitt \"Total Number of White Students\" */"
   ]
  },
  {
   "cell_type": "code",
   "execution_count": 121,
   "id": "d04ec9b0-f478-48c1-8524-0369c9ce5e50",
   "metadata": {
    "tags": []
   },
   "outputs": [],
   "source": [
    "/* gen pcteftotlt=eftotlt\n",
    "gen pcteftotlm=eftotlm\n",
    "gen pcteftotlw=eftotlw\n",
    "gen pctefasiaw=efasiaw\n",
    "gen pctefbkaaw=efbkaaw\n",
    "gen pctefhispw=efhispw\n",
    "gen pctefnhpiw=efnhpiw\n",
    "gen pctefwhitw=efwhitw\n",
    "gen pctef2morw=ef2morw\n",
    "gen pctefasiam=efasiam\n",
    "gen pctefbkaam=efbkaam\n",
    "gen pctefhispm=efhispm\n",
    "gen pctefnhpim=efnhpim\n",
    "gen pctefwhitm=efwhitm\n",
    "gen pctef2morm=ef2morm\n",
    "gen pctefbkaat=efbkaat\n",
    "gen pctefwhitt=efwhitt */"
   ]
  },
  {
   "cell_type": "code",
   "execution_count": 122,
   "id": "5a144757-33d9-4966-bfb4-88911326d89b",
   "metadata": {
    "tags": []
   },
   "outputs": [],
   "source": [
    "/* label variable pcteftotlt \"Percent of Students\"\n",
    "label variable pcteftotlw \"Percent of Male Students\"\n",
    "label variable pcteftotlw \"Percent of Female Student\"\n",
    "label variable pctefasiaw \"Percent of Asian Female Students\"\n",
    "label variable pctefbkaaw \"Percent of Black Female Students\"\n",
    "label variable pctefhispw \"Percent of Hispanic Female Students\"\n",
    "label variable pctefnhpiw \"Percent of Native Hawaiian or Other Pacific Islander Female Students\"\n",
    "label variable pctefwhitw \"Percent of White Female Students\"\n",
    "label variable pctef2morw \"Percent of Two or More Race Female Students\"\n",
    "label variable pctefasiam \"Percent of Asian Male Students\"\n",
    "label variable pctefbkaam \"Percent of Black Male Students\"\n",
    "label variable pctefhispm \"Percent of Hispanic Male Students\"\n",
    "label variable pctefnhpim \"Percent of Native Hawaiian or Other Pacific Islander Male Students\"\n",
    "label variable pctefwhitm \"Percent of White Male Students\"\n",
    "label variable pctef2morm \"Percent of Two or More Race Female Students\"\n",
    "label variable pctefbkaat \"Percent of Black Students\"\n",
    "label variable pctefwhitt \"Percent of White Students\" */"
   ]
  },
  {
   "cell_type": "code",
   "execution_count": 123,
   "id": "91a50c94-1fdf-43c3-a385-de0f789c571e",
   "metadata": {
    "tags": []
   },
   "outputs": [
    {
     "name": "stdout",
     "output_type": "stream",
     "text": [
      "(6,256 missing values generated)\n",
      "(2,019 real changes made)\n",
      "(1,855 real changes made)\n",
      "(2,352 real changes made)\n"
     ]
    }
   ],
   "source": [
    "gen status=.\n",
    "\n",
    "replace status=1 if control==1\n",
    "replace status=0 if control==2\n",
    "replace status=0 if control==3"
   ]
  },
  {
   "cell_type": "code",
   "execution_count": 124,
   "id": "971b4e75-d4fe-4cc0-bcae-a81a0977e951",
   "metadata": {
    "tags": []
   },
   "outputs": [],
   "source": [
    "label variable status \"Public Control\""
   ]
  },
  {
   "cell_type": "code",
   "execution_count": 125,
   "id": "b87c19ea-7354-48a9-b50c-9400d53fd59c",
   "metadata": {
    "tags": []
   },
   "outputs": [
    {
     "name": "stdout",
     "output_type": "stream",
     "text": [
      "(6,256 missing values generated)\n",
      "(2,019 real changes made)\n",
      "(1,855 real changes made)\n",
      "(2,352 real changes made)\n"
     ]
    }
   ],
   "source": [
    "gen status1=.\n",
    "\n",
    "replace status1=0 if control==1\n",
    "replace status1=1 if control==2\n",
    "replace status1=0 if control==3"
   ]
  },
  {
   "cell_type": "code",
   "execution_count": 126,
   "id": "2df41428-8d70-40a0-a465-a88a852e8912",
   "metadata": {
    "tags": []
   },
   "outputs": [],
   "source": [
    "label variable status1 \"Private Not-For-Profit Control\""
   ]
  },
  {
   "cell_type": "code",
   "execution_count": 127,
   "id": "43efd51b-e2bf-471e-9f4b-16e323d862c8",
   "metadata": {
    "tags": []
   },
   "outputs": [
    {
     "name": "stdout",
     "output_type": "stream",
     "text": [
      "(6,256 missing values generated)\n",
      "(1,605 real changes made)\n",
      "(2,868 real changes made)\n",
      "(1,753 real changes made)\n",
      "(30 real changes made)\n"
     ]
    }
   ],
   "source": [
    "gen collegelvl=.\n",
    "\n",
    "replace collegelvl=1 if iclevel==2\n",
    "replace collegelvl=0 if iclevel==1\n",
    "replace collegelvl=0 if iclevel==3\n",
    "replace collegelvl=0 if iclevel==-3"
   ]
  },
  {
   "cell_type": "code",
   "execution_count": 128,
   "id": "b78d0f3a-8f09-4668-aca7-595c6370ed1a",
   "metadata": {
    "tags": []
   },
   "outputs": [],
   "source": [
    "label variable collegelvl \"2 Year College\""
   ]
  },
  {
   "cell_type": "code",
   "execution_count": 129,
   "id": "1feab9c2-1fc9-439e-9e05-ceb7a7d4204e",
   "metadata": {
    "tags": []
   },
   "outputs": [
    {
     "name": "stdout",
     "output_type": "stream",
     "text": [
      "(est1 stored)\n",
      "\n",
      "---------------------------------\n",
      "                              (1)\n",
      "                                 \n",
      "                          mean/sd\n",
      "---------------------------------\n",
      "Total Number of Bl~s       340.01\n",
      "                         (944.40)\n",
      "2 Year College               0.27\n",
      "                           (0.45)\n",
      "Public Control               0.34\n",
      "                           (0.47)\n",
      "Private Not-For-Pr~l         0.28\n",
      "                           (0.45)\n",
      "Total Number of St~e     2,797.93\n",
      "                       (6,426.77)\n",
      "Total Number of Wh~s     1,303.19\n",
      "                       (3,204.11)\n",
      "---------------------------------\n",
      "N                           5,706\n",
      "---------------------------------\n"
     ]
    }
   ],
   "source": [
    "est clear\n",
    "\n",
    "eststo: quietly estpost summarize efbkaat collegelvl status status1 eftotlt efwhitt, listwise\n",
    "\n",
    "esttab, cells(\"mean(fmt(%9.2fc))\" sd(par)) label stats(N, fmt(%9.0fc))"
   ]
  },
  {
   "cell_type": "code",
   "execution_count": 130,
   "id": "a089fc97-4b26-4040-9eb9-92540fc5dfd6",
   "metadata": {
    "tags": []
   },
   "outputs": [],
   "source": [
    "qui esttab using tables/t2_descriptive_stats.rtf, ///\n",
    "cells (\"mean(fmt(2))\" sd(par)) label replace ///\n",
    "title(Table 2: Descriptive Statistics)"
   ]
  },
  {
   "cell_type": "code",
   "execution_count": null,
   "id": "5a21ee66-d4fb-4aca-93ed-e0f6c57d2053",
   "metadata": {},
   "outputs": [],
   "source": []
  }
 ],
 "metadata": {
  "kernelspec": {
   "display_name": "Stata (nbstata)",
   "language": "stata",
   "name": "nbstata"
  },
  "language_info": {
   "file_extension": ".do",
   "mimetype": "text/x-stata",
   "name": "stata",
   "version": "17"
  }
 },
 "nbformat": 4,
 "nbformat_minor": 5
}
