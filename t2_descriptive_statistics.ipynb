{
 "cells": [
  {
   "cell_type": "markdown",
   "id": "90d755d9-acd8-4c69-abd1-994c92f1e787",
   "metadata": {},
   "source": [
    "# Table 2 - Descriptive Statistics"
   ]
  },
  {
   "cell_type": "markdown",
   "id": "476694fd-2512-4049-a77b-af00798a3ab3",
   "metadata": {},
   "source": [
    "## IPEDS Fall 2022 Enrollment for Colleges and Universities"
   ]
  },
  {
   "cell_type": "code",
   "execution_count": 17,
   "id": "3eaa8020-f0b6-4e4a-a44f-2f74980deb9e",
   "metadata": {
    "tags": []
   },
   "outputs": [],
   "source": [
    "use data/hd_efa_2022, clear"
   ]
  },
  {
   "cell_type": "code",
   "execution_count": 18,
   "id": "e8a6c657-9367-4023-ad2a-6805ff2f65aa",
   "metadata": {
    "tags": []
   },
   "outputs": [
    {
     "name": "stdout",
     "output_type": "stream",
     "text": [
      "unitid       control      efbkaat      pctefwhitt   collegeown1\n",
      "instnm       hloffer      efwhitt      collegelvl1  collegeown2\n",
      "fips         ccbasic      pcteftotlt   collegelvl2  collegeown3\n",
      "iclevel      eftotlt      pctefbkaat   collegelvl3\n"
     ]
    }
   ],
   "source": [
    "ds"
   ]
  },
  {
   "cell_type": "code",
   "execution_count": 20,
   "id": "1feab9c2-1fc9-439e-9e05-ceb7a7d4204e",
   "metadata": {
    "tags": []
   },
   "outputs": [
    {
     "name": "stdout",
     "output_type": "stream",
     "text": [
      "(est1 stored)\n",
      "\n",
      "---------------------------------\n",
      "                              (1)\n",
      "                                 \n",
      "                          mean/sd\n",
      "---------------------------------\n",
      "Total Number of Wh~s     1,303.19\n",
      "                       (3,204.11)\n",
      "Total Number of Bl~s       340.01\n",
      "                         (944.40)\n",
      "4 Year College               0.43\n",
      "                           (0.50)\n",
      "2 Year College               0.27\n",
      "                           (0.45)\n",
      "Less Than 2 Year C~e         0.29\n",
      "                           (0.45)\n",
      "Public                       0.34\n",
      "                           (0.47)\n",
      "Private Not for Pr~t         0.28\n",
      "                           (0.45)\n",
      "Private for Profit           0.39\n",
      "                           (0.49)\n",
      "Percent of Students      2,797.93\n",
      "                       (6,426.77)\n",
      "Percent of Black S~s       340.01\n",
      "                         (944.40)\n",
      "Percent of White S~s     1,303.19\n",
      "                       (3,204.11)\n",
      "---------------------------------\n",
      "N                           5,706\n",
      "---------------------------------\n"
     ]
    }
   ],
   "source": [
    "est clear\n",
    "\n",
    "eststo: quietly estpost summarize efwhitt efbkaat collegelvl1 collegelvl2 collegelvl3 collegeown1 collegeown2 collegeown3 pcteftotlt pctefbkaat pctefwhitt, listwise\n",
    "\n",
    "esttab, cells(\"mean(fmt(%9.2fc))\" sd(par)) label stats(N, fmt(%9.0fc))"
   ]
  },
  {
   "cell_type": "code",
   "execution_count": 21,
   "id": "a089fc97-4b26-4040-9eb9-92540fc5dfd6",
   "metadata": {
    "tags": []
   },
   "outputs": [],
   "source": [
    "qui esttab using tables/t2_descriptive_stats.rtf, ///\n",
    "cells (\"mean(fmt(2))\" sd(par)) label replace ///\n",
    "title(Table 2: Descriptive Statistics)"
   ]
  }
 ],
 "metadata": {
  "kernelspec": {
   "display_name": "Stata (nbstata) [conda env:base] *",
   "language": "stata",
   "name": "conda-base-nbstata"
  },
  "language_info": {
   "file_extension": ".do",
   "mimetype": "text/x-stata",
   "name": "stata",
   "version": "17"
  }
 },
 "nbformat": 4,
 "nbformat_minor": 5
}
