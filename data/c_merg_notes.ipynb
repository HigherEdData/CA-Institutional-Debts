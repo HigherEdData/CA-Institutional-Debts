{
 "cells": [
  {
   "cell_type": "markdown",
   "id": "86b0c501-0da5-4fbb-9fd9-19255db327f9",
   "metadata": {},
   "source": [
    "# Outline\n",
    "1. Pull IPEDS Data (quantiles)\n",
    "- Black student pop\n",
    "- Latinx student pop\n",
    "- Asian student pop\n",
    "- Low income\n",
    "\n",
    "2. Institutions\n",
    "- CA Higher-Ed\n",
    "- Segment\n",
    "- Unit id\n",
    "\n",
    "3. "
   ]
  },
  {
   "cell_type": "code",
   "execution_count": 46,
   "id": "62edad06-cbfb-4e5a-8714-38dea13c53d3",
   "metadata": {},
   "outputs": [
    {
     "name": "stdout",
     "output_type": "stream",
     "text": [
      "(10 vars, 35 obs)\n"
     ]
    }
   ],
   "source": [
    "insheet using ///\n",
    "\"C:\\Users\\rabid\\Nextcloud\\01_Merced\\next_gen_policy/debt_thresholds_2024.csv\", clear"
   ]
  },
  {
   "cell_type": "code",
   "execution_count": 48,
   "id": "a288bf86-607c-4abc-b74e-ecc538976a34",
   "metadata": {},
   "outputs": [
    {
     "name": "stdout",
     "output_type": "stream",
     "text": [
      "file debt_thresholds_2024.csv saved as .dta format\n"
     ]
    }
   ],
   "source": [
    "save debt_thresholds_2024.csv, replace"
   ]
  },
  {
   "cell_type": "code",
   "execution_count": 33,
   "id": "24fc495c-cee5-4185-a7f1-9b3de9dedb1c",
   "metadata": {},
   "outputs": [
    {
     "name": "stdout",
     "output_type": "stream",
     "text": [
      "(4 vars, 79 obs)\n"
     ]
    }
   ],
   "source": [
    "insheet using ///\n",
    "\"C:\\Users\\rabid\\Nextcloud\\01_Merced\\next_gen_policy/block_grant_fee_discharges.csv\", clear"
   ]
  },
  {
   "cell_type": "code",
   "execution_count": 35,
   "id": "99bbeccd-6e3c-471d-a3c8-34d9e8ae6c2c",
   "metadata": {},
   "outputs": [
    {
     "name": "stdout",
     "output_type": "stream",
     "text": [
      "file block_grant_fee_discharges.csv saved as .dta format\n"
     ]
    }
   ],
   "source": [
    "save block_grant_fee_discharges.csv, replace"
   ]
  },
  {
   "cell_type": "code",
   "execution_count": 37,
   "id": "3c37de2e-0264-4a2a-806a-ef40de5e81e5",
   "metadata": {},
   "outputs": [],
   "source": [
    "*copy \"https://nces.ed.gov/ipeds/datacenter/data/EFFY2021_Data_Stata.zip\" ///\n",
    "*EFFY2021_Data_Stata.zip, replace"
   ]
  },
  {
   "cell_type": "code",
   "execution_count": 39,
   "id": "815c46d8-1c7a-4b46-b2ca-f72158120481",
   "metadata": {},
   "outputs": [],
   "source": [
    "*unzipfile EFFY2021_Data_Stata.zip, replace"
   ]
  },
  {
   "cell_type": "code",
   "execution_count": 41,
   "id": "ff554618-9206-428e-a2ff-3a3ee22bfaa7",
   "metadata": {},
   "outputs": [
    {
     "name": "stdout",
     "output_type": "stream",
     "text": [
      "(64 vars, 103,604 obs)\n",
      "file EFFY2021_Data_Stata.dta saved\n"
     ]
    }
   ],
   "source": [
    "insheet using EFFY2021_Data_Stata.csv, clear\n",
    "save EFFY2021_Data_Stata, replace"
   ]
  },
  {
   "cell_type": "code",
   "execution_count": 44,
   "id": "a69aeaf0-05e0-446b-962d-ddb59b21a3f5",
   "metadata": {},
   "outputs": [
    {
     "name": "stdout",
     "output_type": "stream",
     "text": [
      "\u001b[31mvariable UNITID not found\n",
      "r(111);\u001b[0m\n"
     ]
    }
   ],
   "source": [
    "use debt_thresholds_2024.csv, clear\n",
    "merge 1:1 unitid using EFFY2021_Data_Stata, \n",
    "\n",
    "keep segment unitid\tSchool_Name\tThreshold_Level\tThreshold_Year Threshold_Use Canceled_Debts ///\n",
    "    effylev efytotlt efybkaat efyhispt efywhitt\n",
    "\n",
    "save student_char_debt_threshold_2024, replace"
   ]
  },
  {
   "cell_type": "code",
   "execution_count": null,
   "id": "955c85c1-08b1-41ff-a8c3-af709e4bc42f",
   "metadata": {},
   "outputs": [],
   "source": []
  },
  {
   "cell_type": "code",
   "execution_count": null,
   "id": "060134d0-216c-48f5-9a18-97eee8783640",
   "metadata": {},
   "outputs": [],
   "source": []
  },
  {
   "cell_type": "code",
   "execution_count": null,
   "id": "d6c2c6e0-23c8-4d8e-80b1-edc7ad7b4d34",
   "metadata": {},
   "outputs": [],
   "source": []
  },
  {
   "cell_type": "code",
   "execution_count": null,
   "id": "234ebc81-de19-4612-9cb2-99db49f8bd95",
   "metadata": {},
   "outputs": [],
   "source": []
  },
  {
   "cell_type": "code",
   "execution_count": null,
   "id": "35199c74-491c-4efa-a6e0-16f48de77676",
   "metadata": {},
   "outputs": [],
   "source": []
  },
  {
   "cell_type": "code",
   "execution_count": null,
   "id": "f0f088f0-a4e8-4296-b523-81ef88118b64",
   "metadata": {},
   "outputs": [],
   "source": []
  }
 ],
 "metadata": {
  "kernelspec": {
   "display_name": "Stata (nbstata) [conda env:base] *",
   "language": "stata",
   "name": "conda-base-nbstata"
  },
  "language_info": {
   "file_extension": ".do",
   "mimetype": "text/x-stata",
   "name": "stata",
   "version": "17"
  }
 },
 "nbformat": 4,
 "nbformat_minor": 5
}
