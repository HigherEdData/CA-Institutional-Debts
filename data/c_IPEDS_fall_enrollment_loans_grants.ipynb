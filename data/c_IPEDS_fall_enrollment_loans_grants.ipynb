{
 "cells": [
  {
   "cell_type": "markdown",
   "id": "da66d95c-0400-480a-947c-a98c35fb6e5d",
   "metadata": {},
   "source": [
    "# Creating Data Pull from IPEDS"
   ]
  },
  {
   "cell_type": "code",
   "execution_count": 16,
   "id": "e34a9f63-5db1-46c7-a24e-2441c7087346",
   "metadata": {
    "tags": []
   },
   "outputs": [],
   "source": [
    "qui {\n",
    "forvalues year=2022/2022 {\n",
    "    copy https://nces.ed.gov/ipeds/datacenter/data/EF`year'A_Data_Stata.zip EF`year'A_Data_Stata.zip, replace\n",
    "    unzipfile EF`year'A_Data_Stata.zip, replace\n",
    "     \n",
    "    insheet using ef`year'a_data_stata.csv, clear\n",
    "\n",
    "    keep if efalevel==2\n",
    "    \n",
    "    keep unitid eftotlt eftotlm eftotlw efasiaw efbkaaw efhispw efnhpiw efwhitw ef2morw efasiam efbkaam efhispm efnhpim efwhitm ef2morm ///\n",
    "    efbkaat efwhitt\n",
    "    \n",
    "    save ef`year'a, replace\n",
    "        }\n",
    "    }"
   ]
  },
  {
   "cell_type": "code",
   "execution_count": 17,
   "id": "102658c5-eafb-4b9a-91d3-ed10c88f5176",
   "metadata": {
    "tags": []
   },
   "outputs": [],
   "source": [
    "qui {\n",
    "forvalues year=2022/2022 {\n",
    "\tcopy https://nces.ed.gov/ipeds/datacenter/data/HD`year'_Data_Stata.zip HD`year'_Data_Stata.zip, replace\n",
    "\tunzipfile HD`year'_Data_Stata, replace\n",
    "   \n",
    "\tinsheet using hd`year'_data_stata.csv, clear\n",
    "   \n",
    "    keep unitid control iclevel fips ccbasic instnm hloffer hdegofr1\n",
    "    save hd`year'a, replace\n",
    "\t\t}   \n",
    "\t}"
   ]
  },
  {
   "cell_type": "code",
   "execution_count": 28,
   "id": "a28f80b2-9f6b-4862-97c6-26d259d08ca2",
   "metadata": {
    "tags": []
   },
   "outputs": [
    {
     "name": "stdout",
     "output_type": "stream",
     "text": [
      "\n",
      "    Result                      Number of obs\n",
      "    -----------------------------------------\n",
      "    Not matched                           550\n",
      "        from master                       550  (_merge==1)\n",
      "        from using                          0  (_merge==2)\n",
      "\n",
      "    Matched                             5,706  (_merge==3)\n",
      "    -----------------------------------------\n"
     ]
    }
   ],
   "source": [
    "use hd2022a, clear\n",
    "\n",
    "merge 1:1 unitid using ef2022a,"
   ]
  },
  {
   "cell_type": "code",
   "execution_count": 29,
   "id": "9a03f0c6-e9a0-4124-b451-ee29d98a0fd2",
   "metadata": {
    "tags": []
   },
   "outputs": [
    {
     "name": "stdout",
     "output_type": "stream",
     "text": [
      "file hd_efa_2022.dta saved\n"
     ]
    }
   ],
   "source": [
    "save hd_efa_2022, replace"
   ]
  },
  {
   "cell_type": "code",
   "execution_count": 30,
   "id": "c43309cb-e41d-411f-9ee3-1b1e6a11f5a0",
   "metadata": {
    "tags": []
   },
   "outputs": [],
   "source": [
    "use hd_efa_2022.dta"
   ]
  },
  {
   "cell_type": "code",
   "execution_count": 26,
   "id": "b91c37fb-9742-4377-bbd4-419f7dd1623f",
   "metadata": {
    "tags": []
   },
   "outputs": [
    {
     "name": "stdout",
     "output_type": "stream",
     "text": [
      "\u001b[31mfile EF2022A_Data_Stata.zip not found\n",
      "r(601);\u001b[0m\n"
     ]
    }
   ],
   "source": [
    "forvalues year=2022/2022 {\n",
    "    rm EF`year'A_Data_Stata.zip\n",
    "    rm ef`year'a_data_stata.csv\n",
    "    \n",
    "    rm HD`year'_Data_Stata.zip\n",
    "    rm hd`year'_data_stata.csv\n",
    "\n",
    "    rm ef`year'a_dist.dta\n",
    "    }\n",
    "}"
   ]
  },
  {
   "cell_type": "code",
   "execution_count": 31,
   "id": "6901058f-e6da-4272-ace1-e8541232a336",
   "metadata": {
    "tags": []
   },
   "outputs": [
    {
     "name": "stdout",
     "output_type": "stream",
     "text": [
      "file hd_efa_2022.dta saved\n"
     ]
    }
   ],
   "source": [
    "save hd_efa_2022, replace"
   ]
  },
  {
   "cell_type": "code",
   "execution_count": null,
   "id": "e5bd18be-5ef3-4a21-bcae-09dde9c3cecd",
   "metadata": {},
   "outputs": [],
   "source": []
  }
 ],
 "metadata": {
  "kernelspec": {
   "display_name": "Stata (nbstata)",
   "language": "stata",
   "name": "nbstata"
  },
  "language_info": {
   "file_extension": ".do",
   "mimetype": "text/x-stata",
   "name": "stata",
   "version": "17"
  }
 },
 "nbformat": 4,
 "nbformat_minor": 5
}
