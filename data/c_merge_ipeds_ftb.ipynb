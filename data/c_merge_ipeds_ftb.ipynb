{
 "cells": [
  {
   "cell_type": "code",
   "execution_count": 1,
   "id": "ce71f854-3ea2-46ae-bcd5-6ea6f99abd18",
   "metadata": {},
   "outputs": [
    {
     "data": {
      "text/html": [
       "<style>div.jp-Notebook .datagrid-container {min-height: 448px; }</style>"
      ],
      "text/plain": [
       "<IPython.core.display.HTML object>"
      ]
     },
     "metadata": {},
     "output_type": "display_data"
    },
    {
     "name": "stdout",
     "output_type": "stream",
     "text": [
      "(encoding automatically selected: ISO-8859-2)\n",
      "(5 vars, 74 obs)\n"
     ]
    }
   ],
   "source": [
    "import delimited using d_ftb_offset_2019_pra.csv, clear ///\n",
    "    varnames(1)"
   ]
  },
  {
   "cell_type": "code",
   "execution_count": 2,
   "id": "e651b48b-56b9-4d70-9dee-0adaf52d0eec",
   "metadata": {},
   "outputs": [
    {
     "data": {
      "text/html": [
       "<div>\n",
       "<style scoped>\n",
       "    .dataframe tbody tr th:only-of-type {\n",
       "        vertical-align: middle;\n",
       "    }\n",
       "\n",
       "    .dataframe tbody tr th {\n",
       "        vertical-align: top;\n",
       "    }\n",
       "\n",
       "    .dataframe thead th {\n",
       "        text-align: right;\n",
       "    }\n",
       "</style>\n",
       "<table border=\"1\" class=\"dataframe\">\n",
       "  <thead>\n",
       "    <tr style=\"text-align: right;\">\n",
       "      <th></th>\n",
       "      <th>agency</th>\n",
       "      <th>pit_count</th>\n",
       "      <th>pit_amount</th>\n",
       "      <th>all_count</th>\n",
       "      <th>all_amount</th>\n",
       "    </tr>\n",
       "  </thead>\n",
       "  <tbody>\n",
       "    <tr>\n",
       "      <th>1</th>\n",
       "      <td>CALF STATE POLYTECHNIC UNIVERSITY</td>\n",
       "      <td>534</td>\n",
       "      <td>$140,825.24</td>\n",
       "      <td>546</td>\n",
       "      <td>$143,027.04</td>\n",
       "    </tr>\n",
       "    <tr>\n",
       "      <th>2</th>\n",
       "      <td>CALIFORNIA STATE UNIV NORTHRIDGE</td>\n",
       "      <td>1,056</td>\n",
       "      <td>$328,633.46</td>\n",
       "      <td>1,099</td>\n",
       "      <td>$341,169.88</td>\n",
       "    </tr>\n",
       "    <tr>\n",
       "      <th>3</th>\n",
       "      <td>UNIVERSITY OF CALIFORNIA, OP</td>\n",
       "      <td>3,139</td>\n",
       "      <td>$1,401,548.97</td>\n",
       "      <td>3,218</td>\n",
       "      <td>$1,412,893.93</td>\n",
       "    </tr>\n",
       "    <tr>\n",
       "      <th>4</th>\n",
       "      <td>CSU SACRAMENTO</td>\n",
       "      <td>665</td>\n",
       "      <td>$176,150.92</td>\n",
       "      <td>685</td>\n",
       "      <td>$177,456.73</td>\n",
       "    </tr>\n",
       "    <tr>\n",
       "      <th>5</th>\n",
       "      <td>UCLA</td>\n",
       "      <td>381</td>\n",
       "      <td>$50,701.63</td>\n",
       "      <td>388</td>\n",
       "      <td>$51,390.12</td>\n",
       "    </tr>\n",
       "  </tbody>\n",
       "</table>\n",
       "</div>"
      ]
     },
     "metadata": {},
     "output_type": "display_data"
    }
   ],
   "source": [
    "%head"
   ]
  },
  {
   "cell_type": "code",
   "execution_count": null,
   "id": "40aa6335-f08c-42f8-bc1a-34fc93e26114",
   "metadata": {},
   "outputs": [],
   "source": [
    "gen unitid=."
   ]
  },
  {
   "cell_type": "code",
   "execution_count": null,
   "id": "6f97fe93-1f04-4f5d-9157-3bdaa0b516ab",
   "metadata": {},
   "outputs": [],
   "source": [
    "replace unitid== if AGENCY==\"UMASS GLOBAL\"\n",
    "replace unitid==121691 if AGENCY==\"UNIVERSITY OF REDLANDS\"\n",
    "replace unitid== if AGENCY==\"UMASS GLOBAL\"\n",
    "replace unitid== if AGENCY==\"UMASS GLOBAL\"\n",
    "replace unitid== if AGENCY==\"UMASS GLOBAL\"\n",
    "replace unitid== if AGENCY==\"UMASS GLOBAL\"\n",
    "replace unitid== if AGENCY==\"UMASS GLOBAL\""
   ]
  },
  {
   "cell_type": "code",
   "execution_count": null,
   "id": "16f37003-d46d-4906-ba58-179cb479dad1",
   "metadata": {},
   "outputs": [],
   "source": []
  }
 ],
 "metadata": {
  "kernelspec": {
   "display_name": "Stata (nbstata)",
   "language": "stata",
   "name": "nbstata"
  },
  "language_info": {
   "file_extension": ".do",
   "mimetype": "text/x-stata",
   "name": "stata",
   "version": "17"
  }
 },
 "nbformat": 4,
 "nbformat_minor": 5
}
