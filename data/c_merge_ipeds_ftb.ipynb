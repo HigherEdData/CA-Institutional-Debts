{
 "cells": [
  {
   "cell_type": "code",
   "execution_count": 1,
   "id": "7758ba0c-369a-49d8-8c2e-1467b5a72128",
   "metadata": {
    "tags": []
   },
   "outputs": [
    {
     "data": {
      "text/html": [
       "<style>div.jp-Notebook .datagrid-container {min-height: 448px; }</style>"
      ],
      "text/plain": [
       "<IPython.core.display.HTML object>"
      ]
     },
     "metadata": {},
     "output_type": "display_data"
    },
    {
     "name": "stdout",
     "output_type": "stream",
     "text": [
      "(encoding automatically selected: ISO-8859-2)\n",
      "(5 vars, 74 obs)\n"
     ]
    }
   ],
   "source": [
    "import delimited using d_ftb_offset_2019_pra.csv, clear ///\n",
    "    varnames(1) "
   ]
  },
  {
   "cell_type": "markdown",
   "id": "49d3d73d-f201-4fe9-8e90-feeee25143fb",
   "metadata": {},
   "source": [
    "NOTE: List of agencies being recoded to include [unit id] as provided by IPEDS data"
   ]
  },
  {
   "cell_type": "markdown",
   "id": "2280b2eb-af41-496c-a4f4-12014bf694b4",
   "metadata": {},
   "source": [
    "QUESTION: Do we want to combine any duplicates that are provided?\n",
    "Duplicates in the below list of institutions\n",
    "- California State Univ Northridge & CSU Northridge 110608\n"
   ]
  },
  {
   "cell_type": "markdown",
   "id": "523a235d-bcf0-46dc-8f8f-c122d05e6af0",
   "metadata": {},
   "source": [
    "## Institutuion Unitid's I'm Not Sure About\n",
    "- replace unitid=262086 if agency==\"UMASS GLOBAL\" --> (IPEDS lists it as \"University of Massachusetts Global, Irvine, CA\"\n",
    "- replace unitid=125763 if agency==\"WHITTIER COLLEGE\" --> (IPEDS lists 2: [ATI College-Whittier] & [Whittier College]. I used [Whittier College])\n",
    "- replace unitid=123554 if agency==\"SAINT MARY'S COLLEGE OF CA\" --> (IPEDS lists 2: [Mount Saint Mary's Univer of LA] & [Saint Mary's College of California, Moraga, CA] I used [Saint Mary's College of California, Moraga, CA]\n",
    "- replace unitid=120971 if agency==\"PALOMAR COLLEGE\" --> (IPEDS lists 2: [Palomar College, San Marcos] & [Palomar Institute of Cosmetology, San Marcos] I used [Palomar College, San Marcos]\n",
    "- replace unitid=112385 if agency==\"COASTLINE COMMUNITY COLLEGE\" --> (IPEDS lists 2: [Coastline Beauty College] & [Coastline Community College]) I used [Coastline Community College]\n"
   ]
  },
  {
   "cell_type": "markdown",
   "id": "8f354182-ad3d-4e77-b25d-f6da3e8207ea",
   "metadata": {},
   "source": [
    "## agency codes not found in IPEDS database\n",
    "- replace unitid=110422 if agency==\"CALF STATE POLYTECHNIC UNIVERSITY\" --> (IPEDS lists two different Polytechnic's and it is unclear which to choose)\n",
    "- replace unitid=[???] if agency==\"RIVERSIDE COMMUNITY COLLEGE DIST\"\n",
    "- replace unitid=[???] if agency==\"NAPA VALLEY COLLEGE POLICE DEPT\"\n",
    "\n"
   ]
  },
  {
   "cell_type": "markdown",
   "id": "0ef8ec05-afe9-4147-87d0-25b1e7114db7",
   "metadata": {},
   "source": [
    "## Unit ID's Found and Replaced"
   ]
  },
  {
   "cell_type": "code",
   "execution_count": 2,
   "id": "4db24007-c52d-4f7f-a804-84b5c392015a",
   "metadata": {},
   "outputs": [
    {
     "name": "stdout",
     "output_type": "stream",
     "text": [
      "(74 missing values generated)\n"
     ]
    }
   ],
   "source": [
    "gen unitid=."
   ]
  },
  {
   "cell_type": "code",
   "execution_count": 3,
   "id": "16f37003-d46d-4906-ba58-179cb479dad1",
   "metadata": {},
   "outputs": [
    {
     "name": "stdout",
     "output_type": "stream",
     "text": [
      "(1 real change made)\n",
      "(1 real change made)\n",
      "(1 real change made)\n",
      "(1 real change made)\n",
      "(1 real change made)\n",
      "(1 real change made)\n",
      "(2 real changes made)\n",
      "(1 real change made)\n",
      "(1 real change made)\n",
      "(1 real change made)\n",
      "(1 real change made)\n",
      "(1 real change made)\n",
      "(1 real change made)\n",
      "(1 real change made)\n",
      "(1 real change made)\n",
      "(1 real change made)\n",
      "(1 real change made)\n",
      "(1 real change made)\n",
      "(1 real change made)\n",
      "(1 real change made)\n",
      "(1 real change made)\n",
      "(1 real change made)\n",
      "(1 real change made)\n",
      "(1 real change made)\n",
      "(1 real change made)\n",
      "(1 real change made)\n",
      "(1 real change made)\n",
      "(1 real change made)\n",
      "(1 real change made)\n",
      "(1 real change made)\n",
      "(1 real change made)\n",
      "(1 real change made)\n",
      "(1 real change made)\n",
      "(1 real change made)\n",
      "(1 real change made)\n",
      "(1 real change made)\n",
      "(2 real changes made)\n",
      "(1 real change made)\n",
      "(1 real change made)\n",
      "(1 real change made)\n",
      "(1 real change made)\n",
      "(1 real change made)\n",
      "(1 real change made)\n",
      "(1 real change made)\n",
      "(1 real change made)\n",
      "(1 real change made)\n",
      "(1 real change made)\n",
      "(1 real change made)\n",
      "(1 real change made)\n",
      "(1 real change made)\n",
      "(1 real change made)\n",
      "(1 real change made)\n",
      "(1 real change made)\n",
      "(1 real change made)\n",
      "(1 real change made)\n",
      "(1 real change made)\n",
      "(1 real change made)\n",
      "(1 real change made)\n",
      "(1 real change made)\n",
      "(1 real change made)\n",
      "(2 real changes made)\n",
      "(1 real change made)\n",
      "(1 real change made)\n",
      "(1 real change made)\n",
      "(1 real change made)\n",
      "(1 real change made)\n",
      "(1 real change made)\n",
      "(1 real change made)\n",
      "(1 real change made)\n",
      "(1 real change made)\n"
     ]
    }
   ],
   "source": [
    "replace unitid=124557 if agency==\"UNIVERSITY OF CALIFORNIA, OP\"\n",
    "replace unitid=119331 if agency==\"NAPA VALLEY COLLEGE POLICE DEPT\"\n",
    "replace unitid=121901 if agency==\"RIVERSIDE COMMUNITY COLLEGE DIST\"\n",
    "replace unitid=110662 if agency==\"UCLA DEBT MANAGEMENT SERVICES (DMS)\"\n",
    "replace unitid=110556 if agency==\"FRESNO STATE\"\n",
    "replace unitid=110608 if agency==\"CALIFORNIA STATE UNIV NORTHRIDGE\"\n",
    "replace unitid=110617 if agency==\"CSU SACRAMENTO\"\n",
    "replace unitid=110662 if agency==\"UCLA\"\n",
    "replace unitid=110486 if agency==\"CSU, BAKERSFIELD\"\n",
    "replace unitid=110671 if agency==\"UNIVERSITY OF CALIFORNIA, RIVERSIDE\"\n",
    "replace unitid=110705 if agency==\"UC SANTA BARBARA\"\n",
    "replace unitid=111188 if agency==\"CSU MARITIME ACADEMY\"\n",
    "replace unitid=409698 if agency==\"CALIF. STATE UNIV. MONTEREY BAY\"\n",
    "replace unitid=110547 if agency==\"CSU DOMINGUEZ HILLS\"\n",
    "replace unitid=110635 if agency==\"UNIVERSITY OF CALIFORNIA, BERKELEY\"\n",
    "replace unitid=110608 if agency==\"CSU NORTHRIDGE\"\n",
    "replace unitid=110644 if agency==\"UNIVERSITY OF CALIFORNIA, DAVIS\"\n",
    "replace unitid=262086 if agency==\"UMASS GLOBAL\"\n",
    "replace unitid=121691 if agency==\"UNIVERSITY OF REDLANDS\"\n",
    "replace unitid=120184 if agency==\"NOTRE DAME DE NAMUR UNIVERSITY\"\n",
    "replace unitid=123961 if agency==\"UNIVERSITY OF SOUTHERN CALIF.\"\n",
    "replace unitid=121150 if agency==\"PEPPERDINE UNIVERSITY\"\n",
    "replace unitid=243744 if agency==\"STANFORD UNIVERSITY\"\n",
    "replace unitid=122931 if agency==\"SANTA CLARA UNIVERSITY\"\n",
    "replace unitid=117140 if agency==\"UNIVERSITY OF LA VERNE\"\n",
    "replace unitid=110097 if agency==\"BIOLA UNIVERSITY\"\n",
    "replace unitid=125763 if agency==\"WHITTIER COLLEGE\"\n",
    "replace unitid=117636 if agency==\"LOMA LINDA UNIVERSITY\"\n",
    "replace unitid=117946 if agency==\"LOYOLA MARYMOUNT UNIVERSITY\"\n",
    "replace unitid=123554 if agency==\"SAINT MARY'S COLLEGE OF CA\"\n",
    "replace unitid=117627 if agency==\"LA SIERRA UNIVERSITY\"\n",
    "replace unitid=110370 if agency==\"CA COLLEGE OF ARTS\"\n",
    "replace unitid=111948 if agency==\"CHAPMAN UNIVERSITY\"\n",
    "replace unitid=113236 if agency==\"CYPRESS COLLEGE\"\n",
    "replace unitid=123563 if agency==\"SOLANO COMMUNITY COLLEGE\"\n",
    "replace unitid=120971 if agency==\"PALOMAR COLLEGE\"\n",
    "replace unitid=122597 if agency==\"SAN FRANCISCO STATE UNIVERSITY\"\n",
    "replace unitid=121044 if agency==\"PASEDENA CITY COLLEGE\"\n",
    "replace unitid=122737 if agency==\"SAN JOSE EVERGREEN CCD\"\n",
    "replace unitid=110714 if agency==\"UC SANTA CRUZ\"\n",
    "replace unitid=111939 if agency==\"CHAFFEY COLLEGE\"\n",
    "replace unitid=117733 if agency==\"LOS ANGELES VALLEY COLLEGE\"\n",
    "replace unitid=116439 if agency==\"IRVINE VALLEY COLLEGE\"\n",
    "replace unitid=115126 if agency==\"GOLDEN WEST COLLEGE\"\n",
    "replace unitid=120342 if agency==\"ORANGE COAST COLLEGE\"\n",
    "replace unitid=112385 if agency==\"COASTLINE COMMUNITY COLLEGE\"\n",
    "replace unitid=118347 if agency==\"MARIN COMMUNITY COLLEGE\"\n",
    "replace unitid=111896 if agency==\"CERRO COSO COLLEGE\"\n",
    "replace unitid=109819 if agency==\"BAKERSFIELD COLLEGE\"\n",
    "replace unitid=121363 if agency==\"PORTERVILLE COLLEGE\"\n",
    "replace unitid=122755 if agency==\"SAN JOSE STATE UNIVERSITY\"\n",
    "replace unitid=110583 if agency==\"CSU, LONG BEACH\"\n",
    "replace unitid=110592 if agency==\"CSU, LOS ANGELES\"\n",
    "replace unitid=122409 if agency==\"SAN DIEGO STATE UNIVERSITY\"\n",
    "replace unitid=110574 if agency==\"CAL STATE UNIVERSITY, EAST BAY\"\n",
    "replace unitid=110556 if agency==\"CALIFORNIA STATE UNIVERSITY,FRESNO\"\n",
    "replace unitid=110538 if agency==\"CALIFORNIA STATE UNIVERSITY CHICO\"\n",
    "replace unitid=110422 if agency==\"CALIF POLYTECHNIC STATE UNIVERSITY\"\n",
    "replace unitid=110495 if agency==\"CSU, STANISLAUS\"\n",
    "replace unitid=110529 if agency==\"CALF STATE POLYTECHNIC UNIVERSITY\"\n",
    "replace unitid=110501 if agency==\"CALIFORNIA STATE UNIVERSITY\"\n",
    "replace unitid=110510 if agency==\"CALIF STATE UNIV, SAN BERNARDINO\"  \n",
    "replace unitid=115755 if agency==\"HUMBOLDT STATE UNIVERSITY\"\n",
    "replace unitid=123572 if agency==\"SONOMA STATE UNIVERSITY\" \n",
    "replace unitid=366711 if agency==\"CA STATE UNIVERSITY SAN MARCOS\" \n",
    "replace unitid=409698 if agency==\"CSU MONTEREY BAY\"\n",
    "replace unitid=110510 if agency==\"CSU SAN BERNARDINO\"  \n",
    "replace unitid=441937 if agency==\"CSU CHANNEL ISLANDS\"  \n",
    "replace unitid=119164 if agency==\"MT SAN ANTONIO COLLEGE\"  \n",
    "replace unitid=122782 if agency==\"SAN MATEO COMMUNITY COLLEGE DIST\""
   ]
  },
  {
   "cell_type": "code",
   "execution_count": 4,
   "id": "beac72b0-425d-4bc8-a4b3-bcb7ab61b0b1",
   "metadata": {},
   "outputs": [
    {
     "name": "stdout",
     "output_type": "stream",
     "text": [
      "pit_count: character , removed; replaced as long\n",
      "pit_amount: characters , $ removed; replaced as double\n",
      "all_amount: characters , $ removed; replaced as double\n",
      "all_count: character , removed; replaced as long\n"
     ]
    }
   ],
   "source": [
    "destring pit_count pit_amount all_amount all_count, ///\n",
    "    replace ignore(\",\" \"$\")"
   ]
  },
  {
   "cell_type": "code",
   "execution_count": 5,
   "id": "3c146072-00ad-4cba-84fb-967756e675e9",
   "metadata": {},
   "outputs": [
    {
     "name": "stdout",
     "output_type": "stream",
     "text": [
      "file d_ftb_tax_offset_2019.dta saved\n"
     ]
    }
   ],
   "source": [
    "save d_ftb_tax_offset_2019, replace"
   ]
  },
  {
   "cell_type": "code",
   "execution_count": 6,
   "id": "ebe4c420-ca10-4e87-b545-44cf29bad72b",
   "metadata": {},
   "outputs": [
    {
     "name": "stdout",
     "output_type": "stream",
     "text": [
      "\n",
      "                   agency  \n",
      "    CA COMMUNITY COLLEGES  \n"
     ]
    }
   ],
   "source": [
    "use d_ftb_tax_offset_2019, clear\n",
    "list agency if unitid==., clean noobs"
   ]
  },
  {
   "cell_type": "code",
   "execution_count": 7,
   "id": "0874493a-ec9d-4ed7-9e8f-49230e22b74a",
   "metadata": {},
   "outputs": [],
   "source": [
    "collapse (sum) pit_count pit_amount all_amount all_count ///\n",
    "(first) agency, by(unitid)"
   ]
  },
  {
   "cell_type": "code",
   "execution_count": 8,
   "id": "dd200836-6a9e-4745-b974-9b4d22507d36",
   "metadata": {},
   "outputs": [
    {
     "name": "stdout",
     "output_type": "stream",
     "text": [
      "(variable unitid was float, now double to accommodate using data's values)\n",
      "\n",
      "    Result                      Number of obs\n",
      "    -----------------------------------------\n",
      "    Not matched                         6,192\n",
      "        from master                         1  (ftbmerge==1)\n",
      "        from using                      6,191  (ftbmerge==2)\n",
      "\n",
      "    Matched                                65  (ftbmerge==3)\n",
      "    -----------------------------------------\n"
     ]
    }
   ],
   "source": [
    "merge 1:1 unitid using hd_efa_2022, gen(ftbmerge)"
   ]
  },
  {
   "cell_type": "code",
   "execution_count": 9,
   "id": "3af1b1a3-b910-49d4-a9e6-c0d36735df84",
   "metadata": {},
   "outputs": [
    {
     "name": "stdout",
     "output_type": "stream",
     "text": [
      "(5,564 observations deleted)\n"
     ]
    }
   ],
   "source": [
    "keep if fips==6 | all_count!=."
   ]
  },
  {
   "cell_type": "code",
   "execution_count": 10,
   "id": "8ba08bdc-86e0-4781-a6f0-5287e7cd5213",
   "metadata": {},
   "outputs": [
    {
     "name": "stdout",
     "output_type": "stream",
     "text": [
      "\n",
      "    Result                      Number of obs\n",
      "    -----------------------------------------\n",
      "    Not matched                           104\n",
      "        from master                       104  (sfamerge==1)\n",
      "        from using                          0  (sfamerge==2)\n",
      "\n",
      "    Matched                               589  (sfamerge==3)\n",
      "    -----------------------------------------\n"
     ]
    }
   ],
   "source": [
    "merge 1:1 unitid using sfa2122_data_stata, keepusing(fgrnt_p) keep(1 3) gen(sfamerge)"
   ]
  },
  {
   "cell_type": "code",
   "execution_count": 12,
   "id": "cd789eee-ac4e-4254-b103-03bbc6caae3d",
   "metadata": {},
   "outputs": [
    {
     "name": "stdout",
     "output_type": "stream",
     "text": [
      "(681 missing values generated)\n"
     ]
    }
   ],
   "source": [
    "gen ucall=1 if unitid == 110635 | unitid == 110644\t| unitid == 110653 ///\n",
    "| unitid == 110662\t| unitid == 110671\t| unitid == 110680\t| unitid == 110699\t///\n",
    "| unitid == 110705\t| unitid == 110714\t| unitid == 186371\t| unitid == 231165\t///\n",
    "| unitid == 445188 | unitid== 124557 | unitid==445188 | unitid==110398"
   ]
  },
  {
   "cell_type": "code",
   "execution_count": 14,
   "id": "3b2d79a6-561f-41df-ab29-edffba2d4661",
   "metadata": {},
   "outputs": [
    {
     "name": "stdout",
     "output_type": "stream",
     "text": [
      "(669 missing values generated)\n"
     ]
    }
   ],
   "source": [
    "gen csuall=1 if iclevel==1 & control==1 & fips==6 & ucall!=1 ///\n",
    "    & hloffer>5 & unitid!=262086 & unitid!=119678 & unitid!=488800"
   ]
  },
  {
   "cell_type": "code",
   "execution_count": 16,
   "id": "fa8693f4-0e37-4c65-a0a6-e3c3a8c19ab9",
   "metadata": {},
   "outputs": [
    {
     "name": "stdout",
     "output_type": "stream",
     "text": [
      "file d_ftb_hd_efa_sfa_ipeds.dta saved\n"
     ]
    }
   ],
   "source": [
    "save d_ftb_hd_efa_sfa_ipeds, replace"
   ]
  },
  {
   "cell_type": "code",
   "execution_count": null,
   "id": "86dc9b02-798d-4361-98e6-71a0051856b0",
   "metadata": {},
   "outputs": [],
   "source": []
  }
 ],
 "metadata": {
  "kernelspec": {
   "display_name": "Stata (nbstata)",
   "language": "stata",
   "name": "nbstata"
  },
  "language_info": {
   "file_extension": ".do",
   "mimetype": "text/x-stata",
   "name": "stata",
   "version": "17"
  }
 },
 "nbformat": 4,
 "nbformat_minor": 5
}
