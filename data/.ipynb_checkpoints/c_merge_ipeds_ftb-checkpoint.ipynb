{
 "cells": [
  {
   "cell_type": "code",
   "execution_count": null,
   "id": "0a7734fa-3e09-4d70-aa07-ecfd23ac05bd",
   "metadata": {
    "tags": []
   },
   "outputs": [],
   "source": [
    "use data/d_ftb_offset_2019_pra.csv"
   ]
  },
  {
   "cell_type": "code",
   "execution_count": null,
   "id": "ce71f854-3ea2-46ae-bcd5-6ea6f99abd18",
   "metadata": {
    "tags": []
   },
   "outputs": [],
   "source": [
    "import delimited using d_ftb_offset_2019_pra.csv, clear ///\n",
    "    varnames(1)"
   ]
  },
  {
   "cell_type": "code",
   "execution_count": 17,
   "id": "e651b48b-56b9-4d70-9dee-0adaf52d0eec",
   "metadata": {
    "tags": []
   },
   "outputs": [
    {
     "name": "stdout",
     "output_type": "stream",
     "text": [
      "head failed.\n",
      "No module named 'sfi'\n"
     ]
    }
   ],
   "source": [
    "%head"
   ]
  },
  {
   "cell_type": "code",
   "execution_count": null,
   "id": "40aa6335-f08c-42f8-bc1a-34fc93e26114",
   "metadata": {},
   "outputs": [],
   "source": [
    "gen unitid=."
   ]
  },
  {
   "cell_type": "code",
   "execution_count": null,
   "id": "6f97fe93-1f04-4f5d-9157-3bdaa0b516ab",
   "metadata": {},
   "outputs": [],
   "source": [
    "replace unitid== if AGENCY==\"UMASS GLOBAL\"\n",
    "replace unitid==121691 if AGENCY==\"UNIVERSITY OF REDLANDS\"\n",
    "replace unitid== if AGENCY==\"Insert Agencies Name\"\n",
    "replace unitid== if AGENCY==\"UMASS GLOBAL\"\n",
    "replace unitid== if AGENCY==\"UMASS GLOBAL\"\n",
    "replace unitid== if AGENCY==\"UMASS GLOBAL\"\n",
    "replace unitid== if AGENCY==\"UMASS GLOBAL\""
   ]
  },
  {
   "cell_type": "markdown",
   "id": "49d3d73d-f201-4fe9-8e90-feeee25143fb",
   "metadata": {},
   "source": [
    "NOTE: List of agencies being recoded to include [unit id] as provided by IPEDS data"
   ]
  },
  {
   "cell_type": "markdown",
   "id": "2280b2eb-af41-496c-a4f4-12014bf694b4",
   "metadata": {},
   "source": [
    "QUESTION: Do we want to combine any duplicates that are provided?\n",
    "Duplicates in the below list of institutions\n",
    "- California State Univ Northridge & CSU Northridge 110608\n"
   ]
  },
  {
   "cell_type": "markdown",
   "id": "523a235d-bcf0-46dc-8f8f-c122d05e6af0",
   "metadata": {},
   "source": [
    "## Institutuion Unitid's I'm Not Sure About\n",
    "- replace unitid=262086 if AGENCY==\"UMASS GLOBAL\" --> (IPEDS lists it as \"University of Massachusetts Global, Irvine, CA\"\n",
    "- replace unitid=125763 if AGENCY==\"WHITTIER COLLEGE\" --> (IPEDS lists 2: [ATI College-Whittier] & [Whittier College]. I used [Whittier College])\n",
    "- replace unitid=123554 if AGENCY==\"SAINT MARY'S COLLEGE OF CA\" --> (IPEDS lists 2: [Mount Saint Mary's Univer of LA] & [Saint Mary's College of California, Moraga, CA] I used [Saint Mary's College of California, Moraga, CA]\n",
    "- replace unitid=120971 if AGENCY==\"PALOMAR COLLEGE\" --> (IPEDS lists 2: [Palomar College, San Marcos] & [Palomar Institute of Cosmetology, San Marcos] I used [Palomar College, San Marcos]\n",
    "- replace unitid=112385 if AGENCY==\"COASTLINE COMMUNITY COLLEGE\" --> (IPEDS lists 2: [Coastline Beauty College] & [Coastline Community College]) I used [Coastline Community College]\n"
   ]
  },
  {
   "cell_type": "markdown",
   "id": "8f354182-ad3d-4e77-b25d-f6da3e8207ea",
   "metadata": {},
   "source": [
    "## Agency codes not found in IPEDS database\n",
    "- replace unitid=[???] if AGENCY==\"CALF STATE POLYTECHNIC UNIVERSITY\" --> (IPEDS lists two different Polytechnic's and it is unclear which to choose)\n",
    "- replace unitid=[???] if AGENCY==\"RIVERSIDE COMMUNITY COLLEGE DIST\"\n",
    "- replace unitid=[???] if AGENCY==\"NAPA VALLEY COLLEGE POLICE DEPT\"\n",
    "\n"
   ]
  },
  {
   "cell_type": "markdown",
   "id": "b99b1cf5-b31e-4282-bb32-4f106ff3fb50",
   "metadata": {},
   "source": [
    "## Institutions Excluded Due to Missing Unitid ID in IPEDS\n",
    "\n",
    "replace unitid=[???] if AGENCY==\"CALF STATE POLYTECHNIC UNIVERSITY\"\n",
    "\n",
    "replace unitid=[???] if AGENCY==\"UNIVERSITY OF CALIFORNIA, OP\"\n",
    "\n",
    "replace unitid=[???] if AGENCY==\"FRESNO STATE\"\n",
    "\n",
    "replace unitid=[???] if AGENCY==\"UCLA DEBT MANAGEMENT SERVICES (DMS)\"\n",
    "\n",
    "replace unitid=[???] if AGENCY==\"RIVERSIDE COMMUNITY COLLEGE DIST\"\n",
    "\n",
    "replace unitid=[???] if AGENCY==\"NAPA VALLEY COLLEGE POLICE DEPT\"\n"
   ]
  },
  {
   "cell_type": "markdown",
   "id": "0ef8ec05-afe9-4147-87d0-25b1e7114db7",
   "metadata": {},
   "source": [
    "## Unit ID's Found and Replaced"
   ]
  },
  {
   "cell_type": "code",
   "execution_count": null,
   "id": "16f37003-d46d-4906-ba58-179cb479dad1",
   "metadata": {},
   "outputs": [],
   "source": [
    "replace unitid=110608 if AGENCY==\"CALIFORNIA STATE UNIV NORTHRIDGE\"\n",
    "replace unitid=110617 if AGENCY==\"CSU SACRAMENTO\"\n",
    "replace unitid=110662 if AGENCY==\"UCLA\"\n",
    "replace unitid=110486 if AGENCY==\"CSU, BAKERSFIELD\"\n",
    "replace unitid=110671 if AGENCY==\"UNIVERSITY OF CALIFORNIA, RIVERSIDE\"\n",
    "replace unitid=110705 if AGENCY==\"UC SANTA BARBARA\"\n",
    "replace unitid=111188 if AGENCY==\"CSU MARITIME ACADEMY\"\n",
    "replace unitid=409698 if AGENCY==\"CALIF. STATE UNIV. MONTEREY BAY\"\n",
    "replace unitid=110547 if AGENCY==\"CSU DOMINGUEZ HILLS\"\n",
    "replace unitid=110635 if AGENCY==\"UNIVERSITY OF CALIFORNIA, BERKELEY\"\n",
    "replace unitid=110608 if AGENCY==\"CSU NORTHRIDGE\"\n",
    "replace unitid=110644 if AGENCY==\"UNIVERSITY OF CALIFORNIA, DAVIS\"\n",
    "replace unitid=262086 if AGENCY==\"UMASS GLOBAL\"\n",
    "replace unitid=121691 if AGENCY==\"UNIVERSITY OF REDLANDS\"\n",
    "replace unitid=120184 if AGENCY==\"NOTRE DAME DE NAMUR UNIVERSITY\"\n",
    "replace unitid=123961 if AGENCY==\"UNIVERSITY OF SOUTHERN CALIF.\"\n",
    "replace unitid=121150 if AGENCY==\"PEPPERDINE UNIVERSITY\"\n",
    "replace unitid=243744 if AGENCY==\"STANFORD UNIVERSITY\"\n",
    "replace unitid=122931 if AGENCY==\"SANTA CLARA UNIVERSITY\"\n",
    "replace unitid=117140 if AGENCY==\"UNIVERSITY OF LA VERNE\"\n",
    "replace unitid=110097 if AGENCY==\"BIOLA UNIVERSITY\"\n",
    "replace unitid=125763 if AGENCY==\"WHITTIER COLLEGE\"\n",
    "replace unitid=117636 if AGENCY==\"LOMA LINDA UNIVERSITY\"\n",
    "replace unitid=117946 if AGENCY==\"LOYOLA MARYMOUNT UNIVERSITY\"\n",
    "replace unitid=123554 if AGENCY==\"SAINT MARY'S COLLEGE OF CA\"\n",
    "replace unitid=117627 if AGENCY==\"LA SIERRA UNIVERSITY\"\n",
    "replace unitid=110370 if AGENCY==\"CA COLLEGE OF ARTS\"\n",
    "replace unitid=111948 if AGENCY==\"CHAPMAN UNIVERSITY\"\n",
    "replace unitid=113236 if AGENCY==\"CYPRESS COLLEGE\"\n",
    "replace unitid=123563 if AGENCY==\"SOLANO COMMUNITY COLLEGE\"\n",
    "replace unitid=120971 if AGENCY==\"PALOMAR COLLEGE\"\n",
    "replace unitid=122597 if AGENCY==\"SAN FRANCISCO STATE UNIVERSITY\"\n",
    "replace unitid=121044 if AGENCY==\"PASEDENA CITY COLLEGE\"\n",
    "replace unitid=110617 if AGENCY==\"CSU SACRAMENTO\"\n",
    "replace unitid=122737 if AGENCY==\"SAN JOSE EVERGREEN CCD\"\n",
    "replace unitid=110714 if AGENCY==\"UC SANTA CRUZ\"\n",
    "replace unitid=111939 if AGENCY==\"CHAFFEY COLLEGE\"\n",
    "replace unitid=117733 if AGENCY==\"LOS ANGELES VALLEY COLLEGE\"\n",
    "replace unitid=116439 if AGENCY==\"IRVINE VALLEY COLLEGE\"\n",
    "replace unitid=115126 if AGENCY==\"GOLDEN WEST COLLEGE\"\n",
    "replace unitid=120342 if AGENCY==\"ORANGE COAST COLLEGE\"\n",
    "replace unitid=112385 if AGENCY==\"COASTLINE COMMUNITY COLLEGE\"\n",
    "replace unitid=118347 if AGENCY==\"MARIN COMMUNITY COLLEGE\"\n",
    "replace unitid=111896 if AGENCY==\"CERRO COSO COLLEGE\"\n",
    "replace unitid=109819 if AGENCY==\"BAKERSFIELD COLLEGE\"\n",
    "replace unitid=121363 if AGENCY==\"PORTERVILLE COLLEGE\"\n",
    "replace unitid=122755 if AGENCY==\"SAN JOSE STATE UNIVERSITY\"\n",
    "replace unitid=110583 if AGENCY==\"CSU, LONG BEACH\"\n",
    "replace unitid=110592 if AGENCY==\"CSU, LOS ANGELES\"\n",
    "replace unitid=122409 if AGENCY==\"SAN DIEGO STATE UNIVERSITY\"\n",
    "replace unitid=110574 if AGENCY==\"CAL STATE UNIVERSITY, EAST BAY\"\n",
    "replace unitid=110556 if AGENCY==\"CALIFORNIA STATE UNIVERSITY,FRESNO\"\n",
    "replace unitid=110538 if AGENCY==\"CALIFORNIA STATE UNIVERSITY CHICO\""
   ]
  }
 ],
 "metadata": {
  "kernelspec": {
   "display_name": "Stata (nbstata)",
   "language": "stata",
   "name": "nbstata"
  },
  "language_info": {
   "file_extension": ".do",
   "mimetype": "text/x-stata",
   "name": "stata",
   "version": "17"
  }
 },
 "nbformat": 4,
 "nbformat_minor": 5
}
