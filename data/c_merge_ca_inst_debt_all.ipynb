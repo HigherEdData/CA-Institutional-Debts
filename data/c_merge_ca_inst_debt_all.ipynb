{
 "cells": [
  {
   "cell_type": "markdown",
   "id": "da66d95c-0400-480a-947c-a98c35fb6e5d",
   "metadata": {},
   "source": [
    "# Creating Data Pull from IPEDS"
   ]
  },
  {
   "cell_type": "code",
   "execution_count": 35,
   "id": "63a0bbec-922f-4529-a5da-3185477d2b53",
   "metadata": {
    "tags": []
   },
   "outputs": [
    {
     "name": "stdout",
     "output_type": "stream",
     "text": [
      "(file SFA2122_Data_Stata.zip not found)\n"
     ]
    }
   ],
   "source": [
    "copy \"https://nces.ed.gov/ipeds/datacenter/data/SFA2122_Data_Stata.zip\" ///\n",
    " SFA2122_Data_Stata.zip, replace"
   ]
  },
  {
   "cell_type": "code",
   "execution_count": 35,
   "id": "8fd64d37-0d40-4c34-b666-1924a829c338",
   "metadata": {},
   "outputs": [
    {
     "name": "stdout",
     "output_type": "stream",
     "text": [
      "(file SFA2122_Data_Stata.zip not found)\n"
     ]
    }
   ],
   "source": [
    "unzipfile SFA2122_Data_Stata.zip, replace"
   ]
  },
  {
   "cell_type": "code",
   "execution_count": 37,
   "id": "14f6bf9f-4916-4c62-9bb1-404de6f0c017",
   "metadata": {},
   "outputs": [
    {
     "name": "stdout",
     "output_type": "stream",
     "text": [
      "(663 vars, 5,709 obs)\n",
      "(file sfa2122_data_stata.dta not found)\n",
      "file sfa2122_data_stata.dta saved\n"
     ]
    }
   ],
   "source": [
    "insheet using sfa2122_data_stata.csv, clear\n",
    "save sfa2122_data_stata, replace"
   ]
  },
  {
   "cell_type": "code",
   "execution_count": 1,
   "id": "e34a9f63-5db1-46c7-a24e-2441c7087346",
   "metadata": {
    "tags": []
   },
   "outputs": [
    {
     "data": {
      "text/html": [
       "<style>div.jp-Notebook .datagrid-container {min-height: 448px; }</style>"
      ],
      "text/plain": [
       "<IPython.core.display.HTML object>"
      ]
     },
     "metadata": {},
     "output_type": "display_data"
    }
   ],
   "source": [
    "qui {\n",
    "forvalues year=2022/2022 {\n",
    "    copy https://nces.ed.gov/ipeds/datacenter/data/EF`year'A_Data_Stata.zip EF`year'A_Data_Stata.zip, replace\n",
    "    unzipfile EF`year'A_Data_Stata.zip, replace\n",
    "     \n",
    "    insheet using ef`year'a_data_stata.csv, clear\n",
    "\n",
    "    keep if efalevel==2\n",
    "    \n",
    "    keep unitid eftotlt eftotlm eftotlw efasiaw efbkaaw efhispw efnhpiw efwhitw ef2morw efasiam efbkaam efhispm efnhpim efwhitm ef2morm ///\n",
    "    efbkaat efwhitt\n",
    "    \n",
    "    save ef`year'a, replace\n",
    "        }\n",
    "    }"
   ]
  },
  {
   "cell_type": "code",
   "execution_count": 1,
   "id": "102658c5-eafb-4b9a-91d3-ed10c88f5176",
   "metadata": {
    "tags": []
   },
   "outputs": [
    {
     "data": {
      "text/html": [
       "<style>div.jp-Notebook .datagrid-container {min-height: 448px; }</style>"
      ],
      "text/plain": [
       "<IPython.core.display.HTML object>"
      ]
     },
     "metadata": {},
     "output_type": "display_data"
    }
   ],
   "source": [
    "qui {\n",
    "forvalues year=2022/2022 {\n",
    "\tcopy https://nces.ed.gov/ipeds/datacenter/data/HD`year'_Data_Stata.zip HD`year'_Data_Stata.zip, replace\n",
    "\tunzipfile HD`year'_Data_Stata, replace\n",
    "      \n",
    "\tinsheet using hd`year'_data_stata.csv, clear\n",
    "   \n",
    "    keep unitid control iclevel fips ccbasic instnm hloffer hdegofr1\n",
    "    save hd`year'a, replace\n",
    "\t\t}   \n",
    "\t}"
   ]
  },
  {
   "cell_type": "code",
   "execution_count": 2,
   "id": "a28f80b2-9f6b-4862-97c6-26d259d08ca2",
   "metadata": {
    "tags": []
   },
   "outputs": [
    {
     "name": "stdout",
     "output_type": "stream",
     "text": [
      "\n",
      "    Result                      Number of obs\n",
      "    -----------------------------------------\n",
      "    Not matched                           550\n",
      "        from master                       550  (_merge==1)\n",
      "        from using                          0  (_merge==2)\n",
      "\n",
      "    Matched                             5,706  (_merge==3)\n",
      "    -----------------------------------------\n"
     ]
    }
   ],
   "source": [
    "use hd2022a, clear\n",
    "\n",
    "merge 1:1 unitid using ef2022a,"
   ]
  },
  {
   "cell_type": "code",
   "execution_count": 3,
   "id": "9a03f0c6-e9a0-4124-b451-ee29d98a0fd2",
   "metadata": {
    "tags": []
   },
   "outputs": [
    {
     "name": "stdout",
     "output_type": "stream",
     "text": [
      "file hd_efa_2022.dta saved\n"
     ]
    }
   ],
   "source": [
    "save hd_efa_2022, replace"
   ]
  },
  {
   "cell_type": "code",
   "execution_count": 64,
   "id": "c43309cb-e41d-411f-9ee3-1b1e6a11f5a0",
   "metadata": {
    "tags": []
   },
   "outputs": [],
   "source": [
    "use hd_efa_2022.dta"
   ]
  },
  {
   "cell_type": "code",
   "execution_count": 65,
   "id": "b91c37fb-9742-4377-bbd4-419f7dd1623f",
   "metadata": {
    "tags": []
   },
   "outputs": [
    {
     "name": "stdout",
     "output_type": "stream",
     "text": [
      "\u001b[31mfile EF2022A_Data_Stata.zip not found\n",
      "r(601);\u001b[0m\n"
     ]
    }
   ],
   "source": [
    "forvalues year=2022/2022 {\n",
    "    rm EF`year'A_Data_Stata.zip\n",
    "    rm ef`year'a_data_stata.csv\n",
    "    \n",
    "    rm HD`year'_Data_Stata.zip\n",
    "    rm hd`year'_data_stata.csv\n",
    "\n",
    "    rm ef`year'a_dist.dta\n",
    "    }\n",
    "}"
   ]
  },
  {
   "cell_type": "code",
   "execution_count": 66,
   "id": "8508a480-5144-4584-911f-044bf495b933",
   "metadata": {
    "tags": []
   },
   "outputs": [],
   "source": [
    "keep unitid control iclevel fips ccbasic instnm hloffer eftotlt efbkaat efwhitt"
   ]
  },
  {
   "cell_type": "code",
   "execution_count": 67,
   "id": "8312afec-2f1f-4c28-93ac-b1af063a8085",
   "metadata": {
    "tags": []
   },
   "outputs": [],
   "source": [
    "label variable unitid \"Institutional Number\"\n",
    "label variable control \"Classification of Institutional Operation\"\n",
    "label variable iclevel \"Institutions Program Time-Lines\"\n",
    "label variable fips \"FIPS State Code\"\n",
    "label variable ccbasic \"Carnegie Classification of Institution\"\n",
    "label variable instnm \"Institutions Name\"\n",
    "label variable hloffer \"Highest Level of Offering\"\n",
    "label variable eftotlt \"Total Number of Students Enrolled for Fall\"\n",
    "label variable efbkaat \"Total Number of Black Students\"\n",
    "label variable efwhitt \"Total Number of White Students\""
   ]
  },
  {
   "cell_type": "code",
   "execution_count": 68,
   "id": "35b0d0d6-4c21-4fc4-9a0c-0f6c18da29db",
   "metadata": {
    "tags": []
   },
   "outputs": [
    {
     "name": "stdout",
     "output_type": "stream",
     "text": [
      "(550 missing values generated)\n",
      "(550 missing values generated)\n",
      "(550 missing values generated)\n"
     ]
    }
   ],
   "source": [
    "gen pcteftotlt=eftotlt\n",
    "gen pctefbkaat=efbkaat\n",
    "gen pctefwhitt=efwhitt"
   ]
  },
  {
   "cell_type": "code",
   "execution_count": 69,
   "id": "4c41a565-e017-4bda-8d96-e6685ffe7094",
   "metadata": {
    "tags": []
   },
   "outputs": [],
   "source": [
    "label variable pctefbkaat \"Percent of Black Students\"\n",
    "label variable pctefwhitt \"Percent of White Students\"\n",
    "label variable pcteftotlt \"Percent of Students\""
   ]
  },
  {
   "cell_type": "code",
   "execution_count": 70,
   "id": "6c10e825-98c0-41dd-b3fe-1a0c2962af59",
   "metadata": {
    "tags": []
   },
   "outputs": [],
   "source": [
    "gen collegelvl1=iclevel==1\n",
    "label var collegelvl1 \"4 Year College\"\n",
    "\n",
    "gen collegelvl2=iclevel==2\n",
    "label var collegelvl2 \"2 Year College\"\n",
    "\n",
    "gen collegelvl3=iclevel==3\n",
    "label var collegelvl3 \"Less Than 2 Year College\""
   ]
  },
  {
   "cell_type": "code",
   "execution_count": 71,
   "id": "2e059673-9f7d-4761-8abc-ebff822cda8d",
   "metadata": {
    "tags": []
   },
   "outputs": [],
   "source": [
    "gen collegeown1=control==1\n",
    "label var collegeown1 \"Public\"\n",
    "\n",
    "gen collegeown2=control==2\n",
    "label var collegeown2 \"Private Not for Profit\"\n",
    "\n",
    "gen collegeown3=control==3\n",
    "label var collegeown3 \"Private for Profit\""
   ]
  },
  {
   "cell_type": "code",
   "execution_count": 72,
   "id": "da645b44-e212-4b85-88a9-29a4138ef3d5",
   "metadata": {
    "tags": []
   },
   "outputs": [],
   "source": [
    "/* Labels for additional variables of interest for future use. There is a limit to how many variables can be\n",
    "included before it makes table outputs illegible\n",
    "label variable unitid \"Institutional Number\"\n",
    "label variable control \"Classification of Institutional Operation\"\n",
    "label variable iclevel \"Institutions Program Time-Lines\"\n",
    "label variable fips \"FIPS State Code\"\n",
    "label variable ccbasic \"Carnegie Classification of Institution\"\n",
    "label variable instnm \"Institutions Name\"\n",
    "label variable hloffer \"Highest Level of Offering\"\n",
    "label variable hdegofr1 \"Highest Degree Offered\"\n",
    "label variable eftotlt \"Total Number of Students Enrolled for Fall\"\n",
    "label variable eftotlm \"Total Number of Men\"\n",
    "label variable eftotlw \"Total Number of Women\"\n",
    "label variable efasiaw \"Total Number of Asian Women\"\n",
    "label variable efbkaaw \"Total Number of Black Women\"\n",
    "label variable efhispw \"Total Number of Hispanic Women\"\n",
    "label variable efnhpiw \"Total Number of Native Hawaiian or Other Pacific Islander Women\"\n",
    "label variable efwhitw \"Total Number of White Women\"\n",
    "label variable ef2morw \"Total Number of Women of Two or More Races\"\n",
    "label variable efasiam \"Total Number of Asian Men\"\n",
    "label variable efbkaam \"Total Number of Black Men\"\n",
    "label variable efhispm \"Total Number of Histpanic Men\"\n",
    "label variable efnhpim \"Total Number of Native Hawaiian or Other Pacific Islander Men\"\n",
    "label variable efwhitm \"Total Number of White Men\"\n",
    "label variable ef2morm \"Total Number of Men of Two or More Races\"\n",
    "label variable efbkaat \"Total Number of Black Students\"\n",
    "label variable efwhitt \"Total Number of White Students\" */"
   ]
  },
  {
   "cell_type": "code",
   "execution_count": 73,
   "id": "180bf452-18e1-4fd6-8f0e-5fd210497078",
   "metadata": {
    "tags": []
   },
   "outputs": [],
   "source": [
    "/*  Percent generations for additional variables of interest for future use. There is a limit to how many variables can be\n",
    "included before it makes table outputs illegible\n",
    "gen pcteftotlw=eftotlw\n",
    "gen pctefasiaw=efasiaw\n",
    "gen pctefbkaaw=efbkaaw\n",
    "gen pctefhispw=efhispw\n",
    "gen pctefnhpiw=efnhpiw\n",
    "gen pctefwhitw=efwhitw\n",
    "gen pctef2morw=ef2morw\n",
    "gen pctefasiam=efasiam\n",
    "gen pctefbkaam=efbkaam\n",
    "gen pctefhispm=efhispm\n",
    "gen pctefnhpim=efnhpim\n",
    "gen pctefwhitm=efwhitm\n",
    "gen pctef2morm=ef2morm */"
   ]
  },
  {
   "cell_type": "code",
   "execution_count": 74,
   "id": "41e9620f-9d62-4ecf-89ea-a97548219e01",
   "metadata": {
    "tags": []
   },
   "outputs": [],
   "source": [
    "/* Labels for additional variables of interest for future use. There is a limit to how many variables can be\n",
    "included before it makes table outputs illegible\n",
    "label variable pcteftotlw \"Percent of Male Students\"\n",
    "label variable pcteftotlw \"Percent of Female Student\"\n",
    "label variable pctefasiaw \"Percent of Asian Female Students\"\n",
    "label variable pctefbkaaw \"Percent of Black Female Students\"\n",
    "label variable pctefhispw \"Percent of Hispanic Female Students\"\n",
    "label variable pctefnhpiw \"Percent of Native Hawaiian or Other Pacific Islander Female Students\"\n",
    "label variable pctefwhitw \"Percent of White Female Students\"\n",
    "label variable pctef2morw \"Percent of Two or More Race Female Students\"\n",
    "label variable pctefasiam \"Percent of Asian Male Students\"\n",
    "label variable pctefbkaam \"Percent of Black Male Students\"\n",
    "label variable pctefhispm \"Percent of Hispanic Male Students\"\n",
    "label variable pctefnhpim \"Percent of Native Hawaiian or Other Pacific Islander Male Students\"\n",
    "label variable pctefwhitm \"Percent of White Male Students\"\n",
    "label variable pctef2morm \"Percent of Two or More Race Female Students\" */"
   ]
  },
  {
   "cell_type": "code",
   "execution_count": 75,
   "id": "6901058f-e6da-4272-ace1-e8541232a336",
   "metadata": {
    "tags": []
   },
   "outputs": [
    {
     "name": "stdout",
     "output_type": "stream",
     "text": [
      "file hd_efa_2022.dta saved\n"
     ]
    }
   ],
   "source": [
    "save hd_efa_2022, replace"
   ]
  }
 ],
 "metadata": {
  "kernelspec": {
   "display_name": "Stata (nbstata) [conda env:base] *",
   "language": "stata",
   "name": "conda-base-nbstata"
  },
  "language_info": {
   "file_extension": ".do",
   "mimetype": "text/x-stata",
   "name": "stata",
   "version": "17"
  }
 },
 "nbformat": 4,
 "nbformat_minor": 5
}
