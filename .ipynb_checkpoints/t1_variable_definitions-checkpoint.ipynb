{
 "cells": [
  {
   "cell_type": "markdown",
   "id": "4d1b775d-e362-466d-98a5-97d83cfde5a4",
   "metadata": {},
   "source": [
    "# Table 1: Descriptive Statistics\n",
    "\n",
    "## IPEDS Fall 2022 Enrollment for Colleges and Universities"
   ]
  },
  {
   "cell_type": "code",
   "execution_count": 88,
   "id": "32330b6f-01d5-421e-869a-754542ff2bd0",
   "metadata": {
    "tags": []
   },
   "outputs": [],
   "source": [
    "use data/hd_efa_2022, clear"
   ]
  },
  {
   "cell_type": "code",
   "execution_count": 89,
   "id": "6aa87cde-ff2f-4920-beb9-bc4a642da14b",
   "metadata": {
    "tags": []
   },
   "outputs": [],
   "source": [
    "* ssc install asdoc"
   ]
  },
  {
   "cell_type": "code",
   "execution_count": 90,
   "id": "167aa19a-cf1c-45b2-81f3-6c66864a227a",
   "metadata": {
    "tags": []
   },
   "outputs": [
    {
     "name": "stdout",
     "output_type": "stream",
     "text": [
      "Click to Open File:  tables/t1_variable_descriptions.doc\n"
     ]
    }
   ],
   "source": [
    "asdoc des, replace title(Table 1: Variable Descriptions) ///\n",
    "    save(tables/t1_variable_descriptions), replace"
   ]
  },
  {
   "cell_type": "code",
   "execution_count": 91,
   "id": "2952404d-8413-48ba-bc93-8e3b6b02360a",
   "metadata": {
    "tags": []
   },
   "outputs": [],
   "source": [
    "order unitid iclevel ccbasic"
   ]
  },
  {
   "cell_type": "code",
   "execution_count": 92,
   "id": "f4d15d36-980c-4269-b86e-b715d9afda73",
   "metadata": {
    "tags": []
   },
   "outputs": [],
   "source": [
    "describe, replace clear"
   ]
  },
  {
   "cell_type": "code",
   "execution_count": 93,
   "id": "12da1411-7fbf-450f-b53d-a68dd6038953",
   "metadata": {
    "tags": []
   },
   "outputs": [
    {
     "name": "stdout",
     "output_type": "stream",
     "text": [
      "position   name       type       isnumeric  format     vallab     varlab\n"
     ]
    }
   ],
   "source": [
    "ds"
   ]
  },
  {
   "cell_type": "code",
   "execution_count": 94,
   "id": "6185105f-e4d9-479e-9032-a283e4cc2075",
   "metadata": {
    "tags": []
   },
   "outputs": [],
   "source": [
    "rename name Variable \n",
    "rename varlab Description"
   ]
  },
  {
   "cell_type": "code",
   "execution_count": 95,
   "id": "1c58b47b-3e06-458e-8cf7-a1e379c56bcd",
   "metadata": {
    "tags": []
   },
   "outputs": [
    {
     "name": "stdout",
     "output_type": "stream",
     "text": [
      "\n",
      "  +----------------------------------------------------------+\n",
      "  |    Variable                                  Description |\n",
      "  |----------------------------------------------------------|\n",
      "  |      unitid                         Institutional Number |\n",
      "  |     iclevel              Institutions Program Time-Lines |\n",
      "  |     ccbasic       Carnegie Classification of Institution |\n",
      "  |      instnm                            Institutions Name |\n",
      "  |        fips                              FIPS State Code |\n",
      "  |     control    Classification of Institutional Operation |\n",
      "  |     hloffer                    Highest Level of Offering |\n",
      "  |     eftotlt   Total Number of Students Enrolled for Fall |\n",
      "  |     efbkaat               Total Number of Black Students |\n",
      "  |     efwhitt               Total Number of White Students |\n",
      "  |  pcteftotlt                          Percent of Students |\n",
      "  |  pctefbkaat                    Percent of Black Students |\n",
      "  |  pctefwhitt                    Percent of White Students |\n",
      "  | collegelvl1                               4 Year College |\n",
      "  | collegelvl2                               2 Year College |\n",
      "  | collegelvl3                     Less Than 2 Year College |\n",
      "  | collegeown1                                       Public |\n",
      "  | collegeown2                       Private Not for Profit |\n",
      "  | collegeown3                           Private for Profit |\n",
      "  +----------------------------------------------------------+\n"
     ]
    }
   ],
   "source": [
    "list Variable Description, noobs separator(0)"
   ]
  }
 ],
 "metadata": {
  "kernelspec": {
   "display_name": "Stata (nbstata)",
   "language": "stata",
   "name": "nbstata"
  },
  "language_info": {
   "file_extension": ".do",
   "mimetype": "text/x-stata",
   "name": "stata",
   "version": "17"
  }
 },
 "nbformat": 4,
 "nbformat_minor": 5
}
