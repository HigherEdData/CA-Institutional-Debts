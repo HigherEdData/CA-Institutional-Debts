{
 "cells": [
  {
   "cell_type": "markdown",
   "id": "1989361e-adcc-4a13-8bb3-3e67d5fae236",
   "metadata": {},
   "source": [
    "# Table 3 Regression Estimates"
   ]
  },
  {
   "cell_type": "markdown",
   "id": "39f186d0-7ee7-4406-95d1-989ab7c8f9c6",
   "metadata": {},
   "source": [
    "## IPEDS Fall 2022 Enrollment for Colleges and Universities"
   ]
  },
  {
   "cell_type": "code",
   "execution_count": 39,
   "id": "4b07cd19-9d04-4488-be8e-8468d8e2ced1",
   "metadata": {
    "tags": []
   },
   "outputs": [],
   "source": [
    "use data/hd_efa_2022, clear"
   ]
  },
  {
   "cell_type": "code",
   "execution_count": 40,
   "id": "a97fca4d-a332-42ff-8583-b8d484a99171",
   "metadata": {
    "tags": []
   },
   "outputs": [
    {
     "name": "stdout",
     "output_type": "stream",
     "text": [
      "unitid       control      efbkaat      pctefwhitt   collegeown1\n",
      "instnm       hloffer      efwhitt      collegelvl1  collegeown2\n",
      "fips         ccbasic      pcteftotlt   collegelvl2  collegeown3\n",
      "iclevel      eftotlt      pctefbkaat   collegelvl3\n"
     ]
    }
   ],
   "source": [
    "ds"
   ]
  },
  {
   "cell_type": "code",
   "execution_count": 41,
   "id": "4b4ba7c3-9da8-42bc-ba63-bef3c09166b1",
   "metadata": {
    "tags": []
   },
   "outputs": [],
   "source": [
    "label define control 1 \"Public\" 2 \"Private Not for Profit\" 3 \"Private for Profit\"\n",
    "label values control control"
   ]
  },
  {
   "cell_type": "code",
   "execution_count": 42,
   "id": "b88042d8-1bdb-487a-935e-594d619c19ca",
   "metadata": {
    "tags": []
   },
   "outputs": [],
   "source": [
    "label define iclevel 1 \"4 Year College\" 2 \"2 Year College\" 3 \"Less Than 2 Year College\"\n",
    "label values iclevel iclevel"
   ]
  },
  {
   "cell_type": "code",
   "execution_count": 43,
   "id": "7e52a8f8-d692-465e-971b-71e63604fe3f",
   "metadata": {
    "tags": []
   },
   "outputs": [
    {
     "name": "stdout",
     "output_type": "stream",
     "text": [
      "note: control omitted because of collinearity.\n",
      "\n",
      "      Source |       SS           df       MS      Number of obs   =     5,706\n",
      "-------------+----------------------------------   F(5, 5700)      =    126.60\n",
      "       Model |   508586672         5   101717334   Prob > F        =    0.0000\n",
      "    Residual |  4.5796e+09     5,700  803446.175   R-squared       =    0.1000\n",
      "-------------+----------------------------------   Adj R-squared   =    0.0992\n",
      "       Total |  5.0882e+09     5,705  891889.548   Root MSE        =    896.35\n",
      "\n",
      "------------------------------------------------------------------------------\n",
      "     efbkaat | Coefficient  Std. err.      t    P>|t|     [95% conf. interval]\n",
      "-------------+----------------------------------------------------------------\n",
      "     control |   -424.124   28.53292   -14.86   0.000    -480.0594   -368.1886\n",
      "             |\n",
      "     iclevel |\n",
      "2 Year Co..  |  -345.0727   73.07689    -4.72   0.000    -488.3312   -201.8142\n",
      "Less Than..  |   -1236.02   102.9204   -12.01   0.000    -1437.783   -1034.257\n",
      "             |\n",
      "     control |          0  (omitted)\n",
      "             |\n",
      "     iclevel#|\n",
      "   c.control |\n",
      "2 Year Co..  |   139.2233   37.59928     3.70   0.000     65.51437    212.9322\n",
      "Less Than..  |   428.9304   42.44021    10.11   0.000     345.7315    512.1294\n",
      "             |\n",
      "       _cons |    1260.66   54.42384    23.16   0.000     1153.969    1367.351\n",
      "------------------------------------------------------------------------------\n"
     ]
    }
   ],
   "source": [
    "reg efbkaat control i.iclevel##c.control"
   ]
  }
 ],
 "metadata": {
  "kernelspec": {
   "display_name": "Stata (nbstata)",
   "language": "stata",
   "name": "nbstata"
  },
  "language_info": {
   "file_extension": ".do",
   "mimetype": "text/x-stata",
   "name": "stata",
   "version": "17"
  }
 },
 "nbformat": 4,
 "nbformat_minor": 5
}
