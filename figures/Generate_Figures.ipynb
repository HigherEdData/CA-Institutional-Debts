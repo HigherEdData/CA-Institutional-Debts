{
 "cells": [
  {
   "cell_type": "markdown",
   "id": "c9d6150d-427e-48fa-92c7-30bd9adc5dde",
   "metadata": {},
   "source": [
    "# Generate Bar Graph"
   ]
  },
  {
   "cell_type": "code",
   "execution_count": null,
   "id": "6cdf3972-bb26-4854-83f0-378955509fd1",
   "metadata": {},
   "outputs": [],
   "source": [
    "efbkaat collegelvl status status1 eftotlt efwhitt"
   ]
  },
  {
   "cell_type": "code",
   "execution_count": null,
   "id": "6190605a-8fb2-48c8-ac03-c57397c3a7f9",
   "metadata": {},
   "outputs": [],
   "source": []
  },
  {
   "cell_type": "markdown",
   "id": "ff47d162-db8b-42f9-a705-e36794f4aafc",
   "metadata": {},
   "source": [
    "NOTE: Trying to make a bar graph that shows (1) total white students and (2) total black students at\n",
    "2 year colleges that are publicly own in with the total number of students included\n",
    "\n",
    "- From Week 5 Presentation\n"
   ]
  },
  {
   "cell_type": "code",
   "execution_count": null,
   "id": "7e7bda8c-e933-4362-b30a-60d5c900c595",
   "metadata": {},
   "outputs": [],
   "source": []
  },
  {
   "cell_type": "code",
   "execution_count": 1,
   "id": "279765ba-0eaf-4d33-a246-ecb87857c34c",
   "metadata": {
    "tags": []
   },
   "outputs": [
    {
     "data": {
      "text/html": [
       "<style>div.jp-Notebook .datagrid-container {min-height: 448px; }</style>"
      ],
      "text/plain": [
       "<IPython.core.display.HTML object>"
      ]
     },
     "metadata": {},
     "output_type": "display_data"
    },
    {
     "name": "stdout",
     "output_type": "stream",
     "text": [
      "\u001b[31mvariable eftotlt not found\n",
      "r(111);\u001b[0m\n"
     ]
    }
   ],
   "source": []
  },
  {
   "cell_type": "code",
   "execution_count": null,
   "id": "41bfb29d-c6c8-4fe3-80d8-616e2edf2e41",
   "metadata": {},
   "outputs": [],
   "source": []
  },
  {
   "cell_type": "code",
   "execution_count": null,
   "id": "706f5d64-df96-477f-8fdf-e3a5dea5cd43",
   "metadata": {},
   "outputs": [],
   "source": [
    "graph bar (mean) realrinc, over(race) over(sex) asyvars ytitle (Income in constant dollar) ///\n",
    "  blabel(bar, format(%7.0fc)) legend(rows(1) position(1) ring(0)) scheme(538w)"
   ]
  },
  {
   "cell_type": "code",
   "execution_count": null,
   "id": "43af56c8-86f5-4b2e-898d-9558f9dc74c5",
   "metadata": {},
   "outputs": [],
   "source": []
  },
  {
   "cell_type": "code",
   "execution_count": null,
   "id": "e78011ff-be85-4fd8-bf87-afe11fe91d36",
   "metadata": {},
   "outputs": [],
   "source": [
    "graph bar (mean) eftotlt, over(race) over(sex) asyvars ytitle (Income in constant dollar) ///\n",
    "  blabel(bar, format(%7.0fc)) legend(rows(1) position(1) ring(0)) scheme(538w)"
   ]
  }
 ],
 "metadata": {
  "kernelspec": {
   "display_name": "Stata (nbstata)",
   "language": "stata",
   "name": "nbstata"
  },
  "language_info": {
   "file_extension": ".do",
   "mimetype": "text/x-stata",
   "name": "stata",
   "version": "17"
  }
 },
 "nbformat": 4,
 "nbformat_minor": 5
}
