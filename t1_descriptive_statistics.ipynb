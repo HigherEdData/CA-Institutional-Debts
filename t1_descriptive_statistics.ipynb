{
 "cells": [
  {
   "cell_type": "markdown",
   "id": "4d1b775d-e362-466d-98a5-97d83cfde5a4",
   "metadata": {},
   "source": [
    "# Table 1: Descriptive Statistics\n",
    "\n",
    "## IPEDS Fall 2022 Enrollment for Colleges and Universities"
   ]
  },
  {
   "cell_type": "code",
   "execution_count": 2,
   "id": "2d4ee15e-c242-4c88-bdad-9d1189873bba",
   "metadata": {
    "tags": []
   },
   "outputs": [],
   "source": [
    "mkdir tables"
   ]
  },
  {
   "cell_type": "markdown",
   "id": "c14d51a3-3291-4651-92f6-214997b29014",
   "metadata": {},
   "source": [
    "NOTE: Common first table in most quantitative papers is a \"descriptive statistics\" table\n",
    "\n",
    "- Mean\n",
    "- Standard Error\n",
    "- Sample/Population Size"
   ]
  },
  {
   "cell_type": "markdown",
   "id": "78b20d97-ced0-4853-92ca-0e6dd38ab3cf",
   "metadata": {},
   "source": [
    "NOTE: Make [t-files] as legible as possible."
   ]
  },
  {
   "cell_type": "markdown",
   "id": "1f1d7ccd-6204-4485-8efc-e03cfdd7d4a4",
   "metadata": {},
   "source": [
    "NOTE: Make sure the IPEDS data files pulled and saved in the [data] folder are [.dta] files and NOT [.csv] files\n",
    "b/c [.csv] files will not save things like label names."
   ]
  },
  {
   "cell_type": "markdown",
   "id": "e88a5048-2a0f-4871-8b67-3c98f8995f24",
   "metadata": {},
   "source": [
    "NOTE: The below code is an example, using the [hd] files downloaded from IPEDS.\n",
    "\n",
    "TO-DO: Need to do this for your own data sets\n"
   ]
  },
  {
   "cell_type": "code",
   "execution_count": null,
   "id": "2c0a5a7e-220c-4000-8cec-0421a700933f",
   "metadata": {},
   "outputs": [],
   "source": [
    "use data/d_OPM_database_paperJN.dta"
   ]
  },
  {
   "cell_type": "markdown",
   "id": "cfbe2d23-0382-4b3c-831b-e117e4ab127e",
   "metadata": {},
   "source": [
    "### FURTHER EXAMPLES"
   ]
  },
  {
   "cell_type": "markdown",
   "id": "13ad6a24-c307-45dc-9eee-d4c06d9d8bde",
   "metadata": {},
   "source": [
    "NOTE: The below code is what is ran to create a descriptive statistic table for individual variables"
   ]
  },
  {
   "cell_type": "code",
   "execution_count": 1,
   "id": "9ea95d63-5cb2-48aa-833c-32c37ef3b3a0",
   "metadata": {
    "tags": []
   },
   "outputs": [
    {
     "data": {
      "text/html": [
       "<style>div.jp-Notebook .datagrid-container {min-height: 448px; }</style>"
      ],
      "text/plain": [
       "<IPython.core.display.HTML object>"
      ]
     },
     "metadata": {},
     "output_type": "display_data"
    },
    {
     "name": "stdout",
     "output_type": "stream",
     "text": [
      "\u001b[31mvariable unknown weight type\n",
      "r(198);\u001b[0m\n"
     ]
    }
   ],
   "source": [
    "eststo: quietly estpost summarize [variable name], listwise\n",
    "\n",
    "esttab, cells(\"mean(fmt(2))\" \"sd(fmt(2))\")"
   ]
  },
  {
   "cell_type": "markdown",
   "id": "34790318-a797-4cb7-9db4-f01fc1167865",
   "metadata": {},
   "source": [
    "NOTE: Below code is for making an [.rtf] file which will hold the formatted table you will later paste into\n",
    "your paper and other documents."
   ]
  },
  {
   "cell_type": "code",
   "execution_count": null,
   "id": "6e592512-27f8-4d8b-a25d-7de812f40ae2",
   "metadata": {},
   "outputs": [],
   "source": [
    "esttab using tables/t1_descriptive.rtf, cells(\"mean(fmt(2))\" \"sd(fmt(2))\") ///\n",
    "replace\n",
    "\n",
    "qui esttab all using tables/t1_quantitative_variables.rtf, cells(\"mean(fmt(2))\") ///\n",
    "label nodepvar nonumbers mtitle(\" \") ///\n",
    "title(\"Table 1. Quantitative Variables Assessed in Third-Party Contracts\") noobs ///\n",
    "noabbrev modelwidth(20) note(Note: For invisibility statistics see Table 4) replace"
   ]
  },
  {
   "cell_type": "markdown",
   "id": "e1d1d0a3-b1a6-44b1-85fa-643be96f05ec",
   "metadata": {},
   "source": [
    "NOTE: You can download [.rtf] files and open them with [Microsoft Word] and then just do a standard copy+paste\n",
    "of the table from [Microsoft word] b/c you are not formatting it. This is the standard process for creating\n",
    "quantitative tables for putting into a paper"
   ]
  },
  {
   "cell_type": "code",
   "execution_count": null,
   "id": "870198ae-88d0-4f7d-babb-67cb05b42db5",
   "metadata": {},
   "outputs": [],
   "source": []
  }
 ],
 "metadata": {
  "kernelspec": {
   "display_name": "Stata (nbstata)",
   "language": "stata",
   "name": "nbstata"
  },
  "language_info": {
   "file_extension": ".do",
   "mimetype": "text/x-stata",
   "name": "stata",
   "version": "17"
  }
 },
 "nbformat": 4,
 "nbformat_minor": 5
}
